{
 "cells": [
  {
   "cell_type": "markdown",
   "id": "c4a7ff4b-619f-4002-93df-d930e060f8b9",
   "metadata": {},
   "source": [
    "#Title:\n",
    "\"Predicting Uber Pickup Demand Based on Temporal and Weather Conditions in New York City\""
   ]
  },
  {
   "cell_type": "markdown",
   "id": "616e5901-1945-4298-a33d-54c951893296",
   "metadata": {},
   "source": [
    "# Perform Data Cleaning and Preprocessing\n",
    "Identify and handle missing values, incorrect formats, and outliers.\n",
    "\n",
    "Rename and standardize column names for clarity (e.g., pcp01 → precipitation).\n",
    "\n",
    "Convert and extract datetime features like hour, day, month, and weekday.\n",
    "\n",
    "2)Engineer and Select Relevant Features\n",
    "Analyze the distribution of pickup demand across different time periods and weather conditions.\n",
    "\n",
    "Use visualizations (histograms, boxplots, countplots, heatmaps) to detect patterns and correlations.\n",
    "\n",
    "Understand the impact of weather, time of day, holidays, and boroughs on pickup frequency.\n",
    "\n",
    "3)Engineer and Select Relevant Features\n",
    "Create new features like:\n",
    "\n",
    "is_weekend\n",
    "\n",
    "is_rush_hour\n",
    "\n",
    "One-hot encodings for categorical variables (borough, hday)\n",
    "\n",
    "Select the most influential features for training the model.\n",
    "\n",
    "4)Build and Train Machine Learning Models\n",
    "Use regression models such as:\n",
    "\n",
    "Linear Regression (as a baseline)\n",
    "\n",
    "Random Forest Regressor\n",
    "\n",
    "XGBoost Regressor\n",
    "\n",
    "Train models on the processed data and validate using a test split.\n",
    "\n",
    "5)Evaluate Model Performance\n",
    "Use metrics such as:\n",
    "\n",
    "RMSE (Root Mean Squared Error)\n",
    "\n",
    "R² Score\n",
    "\n",
    "Compare performance across different models to determine the most effective one.\n",
    "\n",
    "6)"
   ]
  },
  {
   "cell_type": "markdown",
   "id": "9deaf25a-0125-4e88-9a33-ea195972fe2a",
   "metadata": {},
   "source": [
    "## 1-Load and Explore the Dataset\n",
    "* Import essential libraries: pandas, numpy, matplotlib, seaborn, scikit-learn.\n",
    "* Load the dataset using pandas.read_csv() or other suitable method.\n",
    "* Display basic info and write the insights and observations:\n",
    "    * Display the first 5 rows of the DataFrame.\n",
    "    * Show summary information about the DataFrame, including column types and non-null counts.\n",
    "    * Generate statistical summary (count, mean, std, etc.) of numerical columns.\n",
    "    * Return a tuple representing the number of rows and columns in the DataFrame.\n",
    "    * List all column names in the DataFrame.\n",
    "    "
   ]
  },
  {
   "cell_type": "markdown",
   "id": "8837ba43-9920-4027-8c92-9015d5fcc793",
   "metadata": {},
   "source": [
    "import numpy as np\n",
    "import pandas as pd\n",
    "import matplotlib.pyplot as plt\n",
    "%matplotlib inline\n",
    "import seaborn as sns"
   ]
  },
  {
   "cell_type": "code",
   "execution_count": 26,
   "id": "09380fcd-88e8-4757-88d7-685ef0997265",
   "metadata": {},
   "outputs": [],
   "source": [
    "import numpy as np\n",
    "import pandas as pd\n",
    "import seaborn as sns\n",
    "import matplotlib.pyplot as plt"
   ]
  },
  {
   "cell_type": "code",
   "execution_count": 30,
   "id": "b49cfe7c-fa38-4778-8304-197f3ac8d711",
   "metadata": {},
   "outputs": [],
   "source": [
    "df = pd.read_csv(\"C://Users//admin//Downloads//3-Uber_Data_New_csv.csv\")"
   ]
  },
  {
   "cell_type": "code",
   "execution_count": 32,
   "id": "5acdd6e4-1443-4fb3-9a17-ae53d61794fd",
   "metadata": {},
   "outputs": [
    {
     "data": {
      "text/html": [
       "<div>\n",
       "<style scoped>\n",
       "    .dataframe tbody tr th:only-of-type {\n",
       "        vertical-align: middle;\n",
       "    }\n",
       "\n",
       "    .dataframe tbody tr th {\n",
       "        vertical-align: top;\n",
       "    }\n",
       "\n",
       "    .dataframe thead th {\n",
       "        text-align: right;\n",
       "    }\n",
       "</style>\n",
       "<table border=\"1\" class=\"dataframe\">\n",
       "  <thead>\n",
       "    <tr style=\"text-align: right;\">\n",
       "      <th></th>\n",
       "      <th>pickup_dt</th>\n",
       "      <th>borough</th>\n",
       "      <th>pickups</th>\n",
       "      <th>spd</th>\n",
       "      <th>vsb</th>\n",
       "      <th>temp</th>\n",
       "      <th>dewp</th>\n",
       "      <th>slp</th>\n",
       "      <th>pcp01</th>\n",
       "      <th>pcp06</th>\n",
       "      <th>pcp24</th>\n",
       "      <th>sd</th>\n",
       "      <th>hday</th>\n",
       "    </tr>\n",
       "  </thead>\n",
       "  <tbody>\n",
       "    <tr>\n",
       "      <th>0</th>\n",
       "      <td>1/1/2015 1:00</td>\n",
       "      <td>Bronx</td>\n",
       "      <td>152.0</td>\n",
       "      <td>5.0</td>\n",
       "      <td>10.0</td>\n",
       "      <td>30.0</td>\n",
       "      <td>7.0</td>\n",
       "      <td>1023.5</td>\n",
       "      <td>0.0</td>\n",
       "      <td>0.0</td>\n",
       "      <td>0.0</td>\n",
       "      <td>0.0</td>\n",
       "      <td>Y</td>\n",
       "    </tr>\n",
       "    <tr>\n",
       "      <th>1</th>\n",
       "      <td>1/1/2015 1:00</td>\n",
       "      <td>Brooklyn</td>\n",
       "      <td>1519.0</td>\n",
       "      <td>5.0</td>\n",
       "      <td>10.0</td>\n",
       "      <td>NaN</td>\n",
       "      <td>7.0</td>\n",
       "      <td>1023.5</td>\n",
       "      <td>0.0</td>\n",
       "      <td>0.0</td>\n",
       "      <td>0.0</td>\n",
       "      <td>0.0</td>\n",
       "      <td>?</td>\n",
       "    </tr>\n",
       "    <tr>\n",
       "      <th>2</th>\n",
       "      <td>1/1/2015 1:00</td>\n",
       "      <td>EWR</td>\n",
       "      <td>0.0</td>\n",
       "      <td>5.0</td>\n",
       "      <td>10.0</td>\n",
       "      <td>30.0</td>\n",
       "      <td>7.0</td>\n",
       "      <td>1023.5</td>\n",
       "      <td>0.0</td>\n",
       "      <td>0.0</td>\n",
       "      <td>0.0</td>\n",
       "      <td>0.0</td>\n",
       "      <td>Y</td>\n",
       "    </tr>\n",
       "    <tr>\n",
       "      <th>3</th>\n",
       "      <td>1/1/2015 1:00</td>\n",
       "      <td>Manhattan</td>\n",
       "      <td>5258.0</td>\n",
       "      <td>5.0</td>\n",
       "      <td>10.0</td>\n",
       "      <td>30.0</td>\n",
       "      <td>7.0</td>\n",
       "      <td>1023.5</td>\n",
       "      <td>0.0</td>\n",
       "      <td>0.0</td>\n",
       "      <td>0.0</td>\n",
       "      <td>0.0</td>\n",
       "      <td>Y</td>\n",
       "    </tr>\n",
       "    <tr>\n",
       "      <th>4</th>\n",
       "      <td>1/1/2015 1:00</td>\n",
       "      <td>Queens</td>\n",
       "      <td>405.0</td>\n",
       "      <td>5.0</td>\n",
       "      <td>10.0</td>\n",
       "      <td>30.0</td>\n",
       "      <td>7.0</td>\n",
       "      <td>1023.5</td>\n",
       "      <td>0.0</td>\n",
       "      <td>0.0</td>\n",
       "      <td>0.0</td>\n",
       "      <td>0.0</td>\n",
       "      <td>Y</td>\n",
       "    </tr>\n",
       "  </tbody>\n",
       "</table>\n",
       "</div>"
      ],
      "text/plain": [
       "       pickup_dt    borough  pickups  spd   vsb  temp  dewp     slp  pcp01  \\\n",
       "0  1/1/2015 1:00      Bronx    152.0  5.0  10.0  30.0   7.0  1023.5    0.0   \n",
       "1  1/1/2015 1:00   Brooklyn   1519.0  5.0  10.0   NaN   7.0  1023.5    0.0   \n",
       "2  1/1/2015 1:00        EWR      0.0  5.0  10.0  30.0   7.0  1023.5    0.0   \n",
       "3  1/1/2015 1:00  Manhattan   5258.0  5.0  10.0  30.0   7.0  1023.5    0.0   \n",
       "4  1/1/2015 1:00     Queens    405.0  5.0  10.0  30.0   7.0  1023.5    0.0   \n",
       "\n",
       "   pcp06  pcp24   sd hday  \n",
       "0    0.0    0.0  0.0    Y  \n",
       "1    0.0    0.0  0.0    ?  \n",
       "2    0.0    0.0  0.0    Y  \n",
       "3    0.0    0.0  0.0    Y  \n",
       "4    0.0    0.0  0.0    Y  "
      ]
     },
     "execution_count": 32,
     "metadata": {},
     "output_type": "execute_result"
    }
   ],
   "source": [
    "df.head()"
   ]
  },
  {
   "cell_type": "code",
   "execution_count": 34,
   "id": "97298b96-5f15-419a-92fd-6ce1f1db8d15",
   "metadata": {},
   "outputs": [
    {
     "data": {
      "text/html": [
       "<div>\n",
       "<style scoped>\n",
       "    .dataframe tbody tr th:only-of-type {\n",
       "        vertical-align: middle;\n",
       "    }\n",
       "\n",
       "    .dataframe tbody tr th {\n",
       "        vertical-align: top;\n",
       "    }\n",
       "\n",
       "    .dataframe thead th {\n",
       "        text-align: right;\n",
       "    }\n",
       "</style>\n",
       "<table border=\"1\" class=\"dataframe\">\n",
       "  <thead>\n",
       "    <tr style=\"text-align: right;\">\n",
       "      <th></th>\n",
       "      <th>pickup_dt</th>\n",
       "      <th>borough</th>\n",
       "      <th>pickups</th>\n",
       "      <th>spd</th>\n",
       "      <th>vsb</th>\n",
       "      <th>temp</th>\n",
       "      <th>dewp</th>\n",
       "      <th>slp</th>\n",
       "      <th>pcp01</th>\n",
       "      <th>pcp06</th>\n",
       "      <th>pcp24</th>\n",
       "      <th>sd</th>\n",
       "      <th>hday</th>\n",
       "    </tr>\n",
       "  </thead>\n",
       "  <tbody>\n",
       "    <tr>\n",
       "      <th>29096</th>\n",
       "      <td>30-06-2015 23:00</td>\n",
       "      <td>EWR</td>\n",
       "      <td>0.0</td>\n",
       "      <td>7.0</td>\n",
       "      <td>10.0</td>\n",
       "      <td>75.0</td>\n",
       "      <td>65.0</td>\n",
       "      <td>1011.8</td>\n",
       "      <td>0.0</td>\n",
       "      <td>0.0</td>\n",
       "      <td>0.0</td>\n",
       "      <td>0.0</td>\n",
       "      <td>N</td>\n",
       "    </tr>\n",
       "    <tr>\n",
       "      <th>29097</th>\n",
       "      <td>30-06-2015 23:00</td>\n",
       "      <td>Manhattan</td>\n",
       "      <td>3828.0</td>\n",
       "      <td>7.0</td>\n",
       "      <td>10.0</td>\n",
       "      <td>75.0</td>\n",
       "      <td>65.0</td>\n",
       "      <td>1011.8</td>\n",
       "      <td>0.0</td>\n",
       "      <td>0.0</td>\n",
       "      <td>0.0</td>\n",
       "      <td>0.0</td>\n",
       "      <td>N</td>\n",
       "    </tr>\n",
       "    <tr>\n",
       "      <th>29098</th>\n",
       "      <td>30-06-2015 23:00</td>\n",
       "      <td>Queens</td>\n",
       "      <td>580.0</td>\n",
       "      <td>7.0</td>\n",
       "      <td>10.0</td>\n",
       "      <td>75.0</td>\n",
       "      <td>65.0</td>\n",
       "      <td>1011.8</td>\n",
       "      <td>0.0</td>\n",
       "      <td>0.0</td>\n",
       "      <td>0.0</td>\n",
       "      <td>0.0</td>\n",
       "      <td>N</td>\n",
       "    </tr>\n",
       "    <tr>\n",
       "      <th>29099</th>\n",
       "      <td>30-06-2015 23:00</td>\n",
       "      <td>Staten Island</td>\n",
       "      <td>0.0</td>\n",
       "      <td>7.0</td>\n",
       "      <td>10.0</td>\n",
       "      <td>75.0</td>\n",
       "      <td>65.0</td>\n",
       "      <td>1011.8</td>\n",
       "      <td>0.0</td>\n",
       "      <td>0.0</td>\n",
       "      <td>0.0</td>\n",
       "      <td>0.0</td>\n",
       "      <td>N</td>\n",
       "    </tr>\n",
       "    <tr>\n",
       "      <th>29100</th>\n",
       "      <td>30-06-2015 23:00</td>\n",
       "      <td>NaN</td>\n",
       "      <td>3.0</td>\n",
       "      <td>7.0</td>\n",
       "      <td>10.0</td>\n",
       "      <td>75.0</td>\n",
       "      <td>65.0</td>\n",
       "      <td>1011.8</td>\n",
       "      <td>0.0</td>\n",
       "      <td>0.0</td>\n",
       "      <td>0.0</td>\n",
       "      <td>0.0</td>\n",
       "      <td>N</td>\n",
       "    </tr>\n",
       "  </tbody>\n",
       "</table>\n",
       "</div>"
      ],
      "text/plain": [
       "              pickup_dt        borough  pickups  spd   vsb  temp  dewp  \\\n",
       "29096  30-06-2015 23:00            EWR      0.0  7.0  10.0  75.0  65.0   \n",
       "29097  30-06-2015 23:00      Manhattan   3828.0  7.0  10.0  75.0  65.0   \n",
       "29098  30-06-2015 23:00         Queens    580.0  7.0  10.0  75.0  65.0   \n",
       "29099  30-06-2015 23:00  Staten Island      0.0  7.0  10.0  75.0  65.0   \n",
       "29100  30-06-2015 23:00            NaN      3.0  7.0  10.0  75.0  65.0   \n",
       "\n",
       "          slp  pcp01  pcp06  pcp24   sd hday  \n",
       "29096  1011.8    0.0    0.0    0.0  0.0    N  \n",
       "29097  1011.8    0.0    0.0    0.0  0.0    N  \n",
       "29098  1011.8    0.0    0.0    0.0  0.0    N  \n",
       "29099  1011.8    0.0    0.0    0.0  0.0    N  \n",
       "29100  1011.8    0.0    0.0    0.0  0.0    N  "
      ]
     },
     "execution_count": 34,
     "metadata": {},
     "output_type": "execute_result"
    }
   ],
   "source": [
    "df.tail()"
   ]
  },
  {
   "cell_type": "code",
   "execution_count": 36,
   "id": "8ee75aa5-dcdc-4553-acda-9bebf89e5553",
   "metadata": {},
   "outputs": [
    {
     "data": {
      "text/plain": [
       "(29101, 13)"
      ]
     },
     "execution_count": 36,
     "metadata": {},
     "output_type": "execute_result"
    }
   ],
   "source": [
    "df.shape"
   ]
  },
  {
   "cell_type": "code",
   "execution_count": 51,
   "id": "5b4ed892-d843-4bd4-adcd-3facaba37e94",
   "metadata": {},
   "outputs": [
    {
     "name": "stdout",
     "output_type": "stream",
     "text": [
      "pickup_dt     object\n",
      "borough       object\n",
      "pickups      float64\n",
      "spd          float64\n",
      "vsb          float64\n",
      "temp         float64\n",
      "dewp         float64\n",
      "slp          float64\n",
      "pcp01        float64\n",
      "pcp06        float64\n",
      "pcp24        float64\n",
      "sd           float64\n",
      "hday          object\n",
      "dtype: object\n"
     ]
    }
   ],
   "source": [
    "dt=df.dtypes\n",
    "print(dt)"
   ]
  },
  {
   "cell_type": "code",
   "execution_count": 53,
   "id": "2781aa6e-1923-4269-a62e-ebf1362d3c53",
   "metadata": {},
   "outputs": [
    {
     "data": {
      "text/html": [
       "<div>\n",
       "<style scoped>\n",
       "    .dataframe tbody tr th:only-of-type {\n",
       "        vertical-align: middle;\n",
       "    }\n",
       "\n",
       "    .dataframe tbody tr th {\n",
       "        vertical-align: top;\n",
       "    }\n",
       "\n",
       "    .dataframe thead th {\n",
       "        text-align: right;\n",
       "    }\n",
       "</style>\n",
       "<table border=\"1\" class=\"dataframe\">\n",
       "  <thead>\n",
       "    <tr style=\"text-align: right;\">\n",
       "      <th></th>\n",
       "      <th>pickups</th>\n",
       "      <th>spd</th>\n",
       "      <th>vsb</th>\n",
       "      <th>temp</th>\n",
       "      <th>dewp</th>\n",
       "      <th>slp</th>\n",
       "      <th>pcp01</th>\n",
       "      <th>pcp06</th>\n",
       "      <th>pcp24</th>\n",
       "      <th>sd</th>\n",
       "    </tr>\n",
       "  </thead>\n",
       "  <tbody>\n",
       "    <tr>\n",
       "      <th>count</th>\n",
       "      <td>29099.000000</td>\n",
       "      <td>29101.000000</td>\n",
       "      <td>29101.000000</td>\n",
       "      <td>28742.000000</td>\n",
       "      <td>29101.000000</td>\n",
       "      <td>2.910100e+04</td>\n",
       "      <td>29101.000000</td>\n",
       "      <td>29101.000000</td>\n",
       "      <td>29101.000000</td>\n",
       "      <td>29101.000000</td>\n",
       "    </tr>\n",
       "    <tr>\n",
       "      <th>mean</th>\n",
       "      <td>490.236022</td>\n",
       "      <td>5.984924</td>\n",
       "      <td>8.818125</td>\n",
       "      <td>47.900262</td>\n",
       "      <td>30.823065</td>\n",
       "      <td>1.052633e+03</td>\n",
       "      <td>0.003830</td>\n",
       "      <td>0.026129</td>\n",
       "      <td>0.090464</td>\n",
       "      <td>2.529169</td>\n",
       "    </tr>\n",
       "    <tr>\n",
       "      <th>std</th>\n",
       "      <td>995.680628</td>\n",
       "      <td>3.699007</td>\n",
       "      <td>2.442897</td>\n",
       "      <td>19.800541</td>\n",
       "      <td>21.283444</td>\n",
       "      <td>5.945147e+03</td>\n",
       "      <td>0.018933</td>\n",
       "      <td>0.093125</td>\n",
       "      <td>0.219402</td>\n",
       "      <td>4.520325</td>\n",
       "    </tr>\n",
       "    <tr>\n",
       "      <th>min</th>\n",
       "      <td>0.000000</td>\n",
       "      <td>0.000000</td>\n",
       "      <td>0.000000</td>\n",
       "      <td>0.000000</td>\n",
       "      <td>-16.000000</td>\n",
       "      <td>1.000000e+00</td>\n",
       "      <td>0.000000</td>\n",
       "      <td>0.000000</td>\n",
       "      <td>0.000000</td>\n",
       "      <td>0.000000</td>\n",
       "    </tr>\n",
       "    <tr>\n",
       "      <th>25%</th>\n",
       "      <td>1.000000</td>\n",
       "      <td>3.000000</td>\n",
       "      <td>9.100000</td>\n",
       "      <td>32.000000</td>\n",
       "      <td>14.000000</td>\n",
       "      <td>1.012500e+03</td>\n",
       "      <td>0.000000</td>\n",
       "      <td>0.000000</td>\n",
       "      <td>0.000000</td>\n",
       "      <td>0.000000</td>\n",
       "    </tr>\n",
       "    <tr>\n",
       "      <th>50%</th>\n",
       "      <td>54.000000</td>\n",
       "      <td>6.000000</td>\n",
       "      <td>10.000000</td>\n",
       "      <td>46.500000</td>\n",
       "      <td>30.000000</td>\n",
       "      <td>1.018200e+03</td>\n",
       "      <td>0.000000</td>\n",
       "      <td>0.000000</td>\n",
       "      <td>0.000000</td>\n",
       "      <td>0.000000</td>\n",
       "    </tr>\n",
       "    <tr>\n",
       "      <th>75%</th>\n",
       "      <td>449.000000</td>\n",
       "      <td>8.000000</td>\n",
       "      <td>10.000000</td>\n",
       "      <td>65.000000</td>\n",
       "      <td>50.000000</td>\n",
       "      <td>1.022900e+03</td>\n",
       "      <td>0.000000</td>\n",
       "      <td>0.000000</td>\n",
       "      <td>0.050000</td>\n",
       "      <td>2.958333</td>\n",
       "    </tr>\n",
       "    <tr>\n",
       "      <th>max</th>\n",
       "      <td>7883.000000</td>\n",
       "      <td>21.000000</td>\n",
       "      <td>10.000000</td>\n",
       "      <td>89.000000</td>\n",
       "      <td>73.000000</td>\n",
       "      <td>1.015200e+06</td>\n",
       "      <td>0.280000</td>\n",
       "      <td>1.240000</td>\n",
       "      <td>2.100000</td>\n",
       "      <td>19.000000</td>\n",
       "    </tr>\n",
       "  </tbody>\n",
       "</table>\n",
       "</div>"
      ],
      "text/plain": [
       "            pickups           spd           vsb          temp          dewp  \\\n",
       "count  29099.000000  29101.000000  29101.000000  28742.000000  29101.000000   \n",
       "mean     490.236022      5.984924      8.818125     47.900262     30.823065   \n",
       "std      995.680628      3.699007      2.442897     19.800541     21.283444   \n",
       "min        0.000000      0.000000      0.000000      0.000000    -16.000000   \n",
       "25%        1.000000      3.000000      9.100000     32.000000     14.000000   \n",
       "50%       54.000000      6.000000     10.000000     46.500000     30.000000   \n",
       "75%      449.000000      8.000000     10.000000     65.000000     50.000000   \n",
       "max     7883.000000     21.000000     10.000000     89.000000     73.000000   \n",
       "\n",
       "                slp         pcp01         pcp06         pcp24            sd  \n",
       "count  2.910100e+04  29101.000000  29101.000000  29101.000000  29101.000000  \n",
       "mean   1.052633e+03      0.003830      0.026129      0.090464      2.529169  \n",
       "std    5.945147e+03      0.018933      0.093125      0.219402      4.520325  \n",
       "min    1.000000e+00      0.000000      0.000000      0.000000      0.000000  \n",
       "25%    1.012500e+03      0.000000      0.000000      0.000000      0.000000  \n",
       "50%    1.018200e+03      0.000000      0.000000      0.000000      0.000000  \n",
       "75%    1.022900e+03      0.000000      0.000000      0.050000      2.958333  \n",
       "max    1.015200e+06      0.280000      1.240000      2.100000     19.000000  "
      ]
     },
     "execution_count": 53,
     "metadata": {},
     "output_type": "execute_result"
    }
   ],
   "source": [
    "df.describe()"
   ]
  },
  {
   "cell_type": "code",
   "execution_count": 55,
   "id": "451fabdd-755e-4b0a-b919-f265fb322246",
   "metadata": {},
   "outputs": [
    {
     "data": {
      "text/html": [
       "<div>\n",
       "<style scoped>\n",
       "    .dataframe tbody tr th:only-of-type {\n",
       "        vertical-align: middle;\n",
       "    }\n",
       "\n",
       "    .dataframe tbody tr th {\n",
       "        vertical-align: top;\n",
       "    }\n",
       "\n",
       "    .dataframe thead th {\n",
       "        text-align: right;\n",
       "    }\n",
       "</style>\n",
       "<table border=\"1\" class=\"dataframe\">\n",
       "  <thead>\n",
       "    <tr style=\"text-align: right;\">\n",
       "      <th></th>\n",
       "      <th>pickup_dt</th>\n",
       "      <th>borough</th>\n",
       "      <th>pickups</th>\n",
       "      <th>spd</th>\n",
       "      <th>vsb</th>\n",
       "      <th>temp</th>\n",
       "      <th>dewp</th>\n",
       "      <th>slp</th>\n",
       "      <th>pcp01</th>\n",
       "      <th>pcp06</th>\n",
       "      <th>pcp24</th>\n",
       "      <th>sd</th>\n",
       "      <th>hday</th>\n",
       "    </tr>\n",
       "  </thead>\n",
       "  <tbody>\n",
       "    <tr>\n",
       "      <th>0</th>\n",
       "      <td>False</td>\n",
       "      <td>False</td>\n",
       "      <td>False</td>\n",
       "      <td>False</td>\n",
       "      <td>False</td>\n",
       "      <td>False</td>\n",
       "      <td>False</td>\n",
       "      <td>False</td>\n",
       "      <td>False</td>\n",
       "      <td>False</td>\n",
       "      <td>False</td>\n",
       "      <td>False</td>\n",
       "      <td>False</td>\n",
       "    </tr>\n",
       "    <tr>\n",
       "      <th>1</th>\n",
       "      <td>False</td>\n",
       "      <td>False</td>\n",
       "      <td>False</td>\n",
       "      <td>False</td>\n",
       "      <td>False</td>\n",
       "      <td>True</td>\n",
       "      <td>False</td>\n",
       "      <td>False</td>\n",
       "      <td>False</td>\n",
       "      <td>False</td>\n",
       "      <td>False</td>\n",
       "      <td>False</td>\n",
       "      <td>False</td>\n",
       "    </tr>\n",
       "    <tr>\n",
       "      <th>2</th>\n",
       "      <td>False</td>\n",
       "      <td>False</td>\n",
       "      <td>False</td>\n",
       "      <td>False</td>\n",
       "      <td>False</td>\n",
       "      <td>False</td>\n",
       "      <td>False</td>\n",
       "      <td>False</td>\n",
       "      <td>False</td>\n",
       "      <td>False</td>\n",
       "      <td>False</td>\n",
       "      <td>False</td>\n",
       "      <td>False</td>\n",
       "    </tr>\n",
       "    <tr>\n",
       "      <th>3</th>\n",
       "      <td>False</td>\n",
       "      <td>False</td>\n",
       "      <td>False</td>\n",
       "      <td>False</td>\n",
       "      <td>False</td>\n",
       "      <td>False</td>\n",
       "      <td>False</td>\n",
       "      <td>False</td>\n",
       "      <td>False</td>\n",
       "      <td>False</td>\n",
       "      <td>False</td>\n",
       "      <td>False</td>\n",
       "      <td>False</td>\n",
       "    </tr>\n",
       "    <tr>\n",
       "      <th>4</th>\n",
       "      <td>False</td>\n",
       "      <td>False</td>\n",
       "      <td>False</td>\n",
       "      <td>False</td>\n",
       "      <td>False</td>\n",
       "      <td>False</td>\n",
       "      <td>False</td>\n",
       "      <td>False</td>\n",
       "      <td>False</td>\n",
       "      <td>False</td>\n",
       "      <td>False</td>\n",
       "      <td>False</td>\n",
       "      <td>False</td>\n",
       "    </tr>\n",
       "    <tr>\n",
       "      <th>...</th>\n",
       "      <td>...</td>\n",
       "      <td>...</td>\n",
       "      <td>...</td>\n",
       "      <td>...</td>\n",
       "      <td>...</td>\n",
       "      <td>...</td>\n",
       "      <td>...</td>\n",
       "      <td>...</td>\n",
       "      <td>...</td>\n",
       "      <td>...</td>\n",
       "      <td>...</td>\n",
       "      <td>...</td>\n",
       "      <td>...</td>\n",
       "    </tr>\n",
       "    <tr>\n",
       "      <th>29096</th>\n",
       "      <td>False</td>\n",
       "      <td>False</td>\n",
       "      <td>False</td>\n",
       "      <td>False</td>\n",
       "      <td>False</td>\n",
       "      <td>False</td>\n",
       "      <td>False</td>\n",
       "      <td>False</td>\n",
       "      <td>False</td>\n",
       "      <td>False</td>\n",
       "      <td>False</td>\n",
       "      <td>False</td>\n",
       "      <td>False</td>\n",
       "    </tr>\n",
       "    <tr>\n",
       "      <th>29097</th>\n",
       "      <td>False</td>\n",
       "      <td>False</td>\n",
       "      <td>False</td>\n",
       "      <td>False</td>\n",
       "      <td>False</td>\n",
       "      <td>False</td>\n",
       "      <td>False</td>\n",
       "      <td>False</td>\n",
       "      <td>False</td>\n",
       "      <td>False</td>\n",
       "      <td>False</td>\n",
       "      <td>False</td>\n",
       "      <td>False</td>\n",
       "    </tr>\n",
       "    <tr>\n",
       "      <th>29098</th>\n",
       "      <td>False</td>\n",
       "      <td>False</td>\n",
       "      <td>False</td>\n",
       "      <td>False</td>\n",
       "      <td>False</td>\n",
       "      <td>False</td>\n",
       "      <td>False</td>\n",
       "      <td>False</td>\n",
       "      <td>False</td>\n",
       "      <td>False</td>\n",
       "      <td>False</td>\n",
       "      <td>False</td>\n",
       "      <td>False</td>\n",
       "    </tr>\n",
       "    <tr>\n",
       "      <th>29099</th>\n",
       "      <td>False</td>\n",
       "      <td>False</td>\n",
       "      <td>False</td>\n",
       "      <td>False</td>\n",
       "      <td>False</td>\n",
       "      <td>False</td>\n",
       "      <td>False</td>\n",
       "      <td>False</td>\n",
       "      <td>False</td>\n",
       "      <td>False</td>\n",
       "      <td>False</td>\n",
       "      <td>False</td>\n",
       "      <td>False</td>\n",
       "    </tr>\n",
       "    <tr>\n",
       "      <th>29100</th>\n",
       "      <td>False</td>\n",
       "      <td>True</td>\n",
       "      <td>False</td>\n",
       "      <td>False</td>\n",
       "      <td>False</td>\n",
       "      <td>False</td>\n",
       "      <td>False</td>\n",
       "      <td>False</td>\n",
       "      <td>False</td>\n",
       "      <td>False</td>\n",
       "      <td>False</td>\n",
       "      <td>False</td>\n",
       "      <td>False</td>\n",
       "    </tr>\n",
       "  </tbody>\n",
       "</table>\n",
       "<p>29101 rows × 13 columns</p>\n",
       "</div>"
      ],
      "text/plain": [
       "       pickup_dt  borough  pickups    spd    vsb   temp   dewp    slp  pcp01  \\\n",
       "0          False    False    False  False  False  False  False  False  False   \n",
       "1          False    False    False  False  False   True  False  False  False   \n",
       "2          False    False    False  False  False  False  False  False  False   \n",
       "3          False    False    False  False  False  False  False  False  False   \n",
       "4          False    False    False  False  False  False  False  False  False   \n",
       "...          ...      ...      ...    ...    ...    ...    ...    ...    ...   \n",
       "29096      False    False    False  False  False  False  False  False  False   \n",
       "29097      False    False    False  False  False  False  False  False  False   \n",
       "29098      False    False    False  False  False  False  False  False  False   \n",
       "29099      False    False    False  False  False  False  False  False  False   \n",
       "29100      False     True    False  False  False  False  False  False  False   \n",
       "\n",
       "       pcp06  pcp24     sd   hday  \n",
       "0      False  False  False  False  \n",
       "1      False  False  False  False  \n",
       "2      False  False  False  False  \n",
       "3      False  False  False  False  \n",
       "4      False  False  False  False  \n",
       "...      ...    ...    ...    ...  \n",
       "29096  False  False  False  False  \n",
       "29097  False  False  False  False  \n",
       "29098  False  False  False  False  \n",
       "29099  False  False  False  False  \n",
       "29100  False  False  False  False  \n",
       "\n",
       "[29101 rows x 13 columns]"
      ]
     },
     "execution_count": 55,
     "metadata": {},
     "output_type": "execute_result"
    }
   ],
   "source": [
    "df.isnull()"
   ]
  },
  {
   "cell_type": "code",
   "execution_count": 59,
   "id": "a7b42332-020a-4111-aa09-01417eddff70",
   "metadata": {},
   "outputs": [
    {
     "data": {
      "text/plain": [
       "pickup_dt       0\n",
       "borough      3043\n",
       "pickups         2\n",
       "spd             0\n",
       "vsb             0\n",
       "temp          359\n",
       "dewp            0\n",
       "slp             0\n",
       "pcp01           0\n",
       "pcp06           0\n",
       "pcp24           0\n",
       "sd              0\n",
       "hday            0\n",
       "dtype: int64"
      ]
     },
     "execution_count": 59,
     "metadata": {},
     "output_type": "execute_result"
    }
   ],
   "source": [
    "df = pd.read_csv(\"C://Users//admin//Downloads//3-Uber_Data_New_csv.csv\")\n",
    "df.isnull().sum()\n",
    "\n"
   ]
  },
  {
   "cell_type": "markdown",
   "id": "c246d70a-a403-4d56-946d-ae37d82bc68b",
   "metadata": {},
   "source": [
    "# Observations:\n",
    "* 1- The dataset is having 14 columns and 1581 rows.\n",
    "* 2- There ae missing entries.\n",
    "* 3- The datatype of \"No_of_Dependents\" feature need to be checked."
   ]
  },
  {
   "cell_type": "code",
   "execution_count": 61,
   "id": "31713768-b4f9-4524-a63e-8b23dd837392",
   "metadata": {},
   "outputs": [],
   "source": [
    "df[df.isnull().any(axis=1)]\n",
    "df_copy = df.copy()"
   ]
  },
  {
   "cell_type": "code",
   "execution_count": 63,
   "id": "f431d2bd-af61-4113-8017-9dc27361aa22",
   "metadata": {},
   "outputs": [
    {
     "data": {
      "text/html": [
       "<div>\n",
       "<style scoped>\n",
       "    .dataframe tbody tr th:only-of-type {\n",
       "        vertical-align: middle;\n",
       "    }\n",
       "\n",
       "    .dataframe tbody tr th {\n",
       "        vertical-align: top;\n",
       "    }\n",
       "\n",
       "    .dataframe thead th {\n",
       "        text-align: right;\n",
       "    }\n",
       "</style>\n",
       "<table border=\"1\" class=\"dataframe\">\n",
       "  <thead>\n",
       "    <tr style=\"text-align: right;\">\n",
       "      <th></th>\n",
       "      <th>pickup_dt</th>\n",
       "      <th>borough</th>\n",
       "      <th>pickups</th>\n",
       "      <th>spd</th>\n",
       "      <th>vsb</th>\n",
       "      <th>temp</th>\n",
       "      <th>dewp</th>\n",
       "      <th>slp</th>\n",
       "      <th>pcp01</th>\n",
       "      <th>pcp06</th>\n",
       "      <th>pcp24</th>\n",
       "      <th>sd</th>\n",
       "      <th>hday</th>\n",
       "    </tr>\n",
       "  </thead>\n",
       "  <tbody>\n",
       "    <tr>\n",
       "      <th>6</th>\n",
       "      <td>1/1/2015 1:00</td>\n",
       "      <td>NaN</td>\n",
       "      <td>4.0</td>\n",
       "      <td>5.000000</td>\n",
       "      <td>10.0</td>\n",
       "      <td>30.0</td>\n",
       "      <td>7.0</td>\n",
       "      <td>1023.5</td>\n",
       "      <td>0.0</td>\n",
       "      <td>0.0</td>\n",
       "      <td>0.0</td>\n",
       "      <td>0.0</td>\n",
       "      <td>Y</td>\n",
       "    </tr>\n",
       "    <tr>\n",
       "      <th>13</th>\n",
       "      <td>1/1/2015 2:00</td>\n",
       "      <td>NaN</td>\n",
       "      <td>11.0</td>\n",
       "      <td>3.000000</td>\n",
       "      <td>10.0</td>\n",
       "      <td>30.0</td>\n",
       "      <td>6.0</td>\n",
       "      <td>1023.0</td>\n",
       "      <td>0.0</td>\n",
       "      <td>0.0</td>\n",
       "      <td>0.0</td>\n",
       "      <td>0.0</td>\n",
       "      <td>Y</td>\n",
       "    </tr>\n",
       "    <tr>\n",
       "      <th>20</th>\n",
       "      <td>1/1/2015 3:00</td>\n",
       "      <td>NaN</td>\n",
       "      <td>1.0</td>\n",
       "      <td>5.000000</td>\n",
       "      <td>10.0</td>\n",
       "      <td>30.0</td>\n",
       "      <td>8.0</td>\n",
       "      <td>1022.3</td>\n",
       "      <td>0.0</td>\n",
       "      <td>0.0</td>\n",
       "      <td>0.0</td>\n",
       "      <td>0.0</td>\n",
       "      <td>Y</td>\n",
       "    </tr>\n",
       "    <tr>\n",
       "      <th>27</th>\n",
       "      <td>1/1/2015 4:00</td>\n",
       "      <td>NaN</td>\n",
       "      <td>2.0</td>\n",
       "      <td>5.000000</td>\n",
       "      <td>10.0</td>\n",
       "      <td>29.0</td>\n",
       "      <td>9.0</td>\n",
       "      <td>1022.0</td>\n",
       "      <td>0.0</td>\n",
       "      <td>0.0</td>\n",
       "      <td>0.0</td>\n",
       "      <td>0.0</td>\n",
       "      <td>Y</td>\n",
       "    </tr>\n",
       "    <tr>\n",
       "      <th>34</th>\n",
       "      <td>1/1/2015 5:00</td>\n",
       "      <td>NaN</td>\n",
       "      <td>3.0</td>\n",
       "      <td>5.000000</td>\n",
       "      <td>10.0</td>\n",
       "      <td>28.0</td>\n",
       "      <td>9.0</td>\n",
       "      <td>1021.8</td>\n",
       "      <td>0.0</td>\n",
       "      <td>0.0</td>\n",
       "      <td>0.0</td>\n",
       "      <td>0.0</td>\n",
       "      <td>Y</td>\n",
       "    </tr>\n",
       "    <tr>\n",
       "      <th>...</th>\n",
       "      <td>...</td>\n",
       "      <td>...</td>\n",
       "      <td>...</td>\n",
       "      <td>...</td>\n",
       "      <td>...</td>\n",
       "      <td>...</td>\n",
       "      <td>...</td>\n",
       "      <td>...</td>\n",
       "      <td>...</td>\n",
       "      <td>...</td>\n",
       "      <td>...</td>\n",
       "      <td>...</td>\n",
       "      <td>...</td>\n",
       "    </tr>\n",
       "    <tr>\n",
       "      <th>29060</th>\n",
       "      <td>30-06-2015 17:00</td>\n",
       "      <td>NaN</td>\n",
       "      <td>1.0</td>\n",
       "      <td>7.666667</td>\n",
       "      <td>10.0</td>\n",
       "      <td>79.0</td>\n",
       "      <td>57.0</td>\n",
       "      <td>1014.1</td>\n",
       "      <td>0.0</td>\n",
       "      <td>0.0</td>\n",
       "      <td>0.0</td>\n",
       "      <td>0.0</td>\n",
       "      <td>N</td>\n",
       "    </tr>\n",
       "    <tr>\n",
       "      <th>29067</th>\n",
       "      <td>30-06-2015 18:00</td>\n",
       "      <td>NaN</td>\n",
       "      <td>2.0</td>\n",
       "      <td>6.333333</td>\n",
       "      <td>10.0</td>\n",
       "      <td>81.0</td>\n",
       "      <td>56.0</td>\n",
       "      <td>1013.4</td>\n",
       "      <td>0.0</td>\n",
       "      <td>0.0</td>\n",
       "      <td>0.0</td>\n",
       "      <td>0.0</td>\n",
       "      <td>N</td>\n",
       "    </tr>\n",
       "    <tr>\n",
       "      <th>29074</th>\n",
       "      <td>30-06-2015 19:00</td>\n",
       "      <td>NaN</td>\n",
       "      <td>4.0</td>\n",
       "      <td>5.000000</td>\n",
       "      <td>10.0</td>\n",
       "      <td>80.0</td>\n",
       "      <td>58.0</td>\n",
       "      <td>1012.5</td>\n",
       "      <td>0.0</td>\n",
       "      <td>0.0</td>\n",
       "      <td>0.0</td>\n",
       "      <td>0.0</td>\n",
       "      <td>N</td>\n",
       "    </tr>\n",
       "    <tr>\n",
       "      <th>29081</th>\n",
       "      <td>30-06-2015 20:00</td>\n",
       "      <td>NaN</td>\n",
       "      <td>5.0</td>\n",
       "      <td>8.000000</td>\n",
       "      <td>10.0</td>\n",
       "      <td>80.0</td>\n",
       "      <td>58.0</td>\n",
       "      <td>1012.4</td>\n",
       "      <td>0.0</td>\n",
       "      <td>0.0</td>\n",
       "      <td>0.0</td>\n",
       "      <td>0.0</td>\n",
       "      <td>N</td>\n",
       "    </tr>\n",
       "    <tr>\n",
       "      <th>29100</th>\n",
       "      <td>30-06-2015 23:00</td>\n",
       "      <td>NaN</td>\n",
       "      <td>3.0</td>\n",
       "      <td>7.000000</td>\n",
       "      <td>10.0</td>\n",
       "      <td>75.0</td>\n",
       "      <td>65.0</td>\n",
       "      <td>1011.8</td>\n",
       "      <td>0.0</td>\n",
       "      <td>0.0</td>\n",
       "      <td>0.0</td>\n",
       "      <td>0.0</td>\n",
       "      <td>N</td>\n",
       "    </tr>\n",
       "  </tbody>\n",
       "</table>\n",
       "<p>3043 rows × 13 columns</p>\n",
       "</div>"
      ],
      "text/plain": [
       "              pickup_dt borough  pickups       spd   vsb  temp  dewp     slp  \\\n",
       "6         1/1/2015 1:00     NaN      4.0  5.000000  10.0  30.0   7.0  1023.5   \n",
       "13        1/1/2015 2:00     NaN     11.0  3.000000  10.0  30.0   6.0  1023.0   \n",
       "20        1/1/2015 3:00     NaN      1.0  5.000000  10.0  30.0   8.0  1022.3   \n",
       "27        1/1/2015 4:00     NaN      2.0  5.000000  10.0  29.0   9.0  1022.0   \n",
       "34        1/1/2015 5:00     NaN      3.0  5.000000  10.0  28.0   9.0  1021.8   \n",
       "...                 ...     ...      ...       ...   ...   ...   ...     ...   \n",
       "29060  30-06-2015 17:00     NaN      1.0  7.666667  10.0  79.0  57.0  1014.1   \n",
       "29067  30-06-2015 18:00     NaN      2.0  6.333333  10.0  81.0  56.0  1013.4   \n",
       "29074  30-06-2015 19:00     NaN      4.0  5.000000  10.0  80.0  58.0  1012.5   \n",
       "29081  30-06-2015 20:00     NaN      5.0  8.000000  10.0  80.0  58.0  1012.4   \n",
       "29100  30-06-2015 23:00     NaN      3.0  7.000000  10.0  75.0  65.0  1011.8   \n",
       "\n",
       "       pcp01  pcp06  pcp24   sd hday  \n",
       "6        0.0    0.0    0.0  0.0    Y  \n",
       "13       0.0    0.0    0.0  0.0    Y  \n",
       "20       0.0    0.0    0.0  0.0    Y  \n",
       "27       0.0    0.0    0.0  0.0    Y  \n",
       "34       0.0    0.0    0.0  0.0    Y  \n",
       "...      ...    ...    ...  ...  ...  \n",
       "29060    0.0    0.0    0.0  0.0    N  \n",
       "29067    0.0    0.0    0.0  0.0    N  \n",
       "29074    0.0    0.0    0.0  0.0    N  \n",
       "29081    0.0    0.0    0.0  0.0    N  \n",
       "29100    0.0    0.0    0.0  0.0    N  \n",
       "\n",
       "[3043 rows x 13 columns]"
      ]
     },
     "execution_count": 63,
     "metadata": {},
     "output_type": "execute_result"
    }
   ],
   "source": [
    "df[df['borough'].isnull()]"
   ]
  },
  {
   "cell_type": "code",
   "execution_count": 65,
   "id": "3fb8c00a-6a9e-46dc-a7be-31c680ca378a",
   "metadata": {},
   "outputs": [
    {
     "data": {
      "text/html": [
       "<div>\n",
       "<style scoped>\n",
       "    .dataframe tbody tr th:only-of-type {\n",
       "        vertical-align: middle;\n",
       "    }\n",
       "\n",
       "    .dataframe tbody tr th {\n",
       "        vertical-align: top;\n",
       "    }\n",
       "\n",
       "    .dataframe thead th {\n",
       "        text-align: right;\n",
       "    }\n",
       "</style>\n",
       "<table border=\"1\" class=\"dataframe\">\n",
       "  <thead>\n",
       "    <tr style=\"text-align: right;\">\n",
       "      <th></th>\n",
       "      <th>pickup_dt</th>\n",
       "      <th>borough</th>\n",
       "      <th>pickups</th>\n",
       "      <th>spd</th>\n",
       "      <th>vsb</th>\n",
       "      <th>temp</th>\n",
       "      <th>dewp</th>\n",
       "      <th>slp</th>\n",
       "      <th>pcp01</th>\n",
       "      <th>pcp06</th>\n",
       "      <th>pcp24</th>\n",
       "      <th>sd</th>\n",
       "      <th>hday</th>\n",
       "    </tr>\n",
       "  </thead>\n",
       "  <tbody>\n",
       "    <tr>\n",
       "      <th>6</th>\n",
       "      <td>1/1/2015 1:00</td>\n",
       "      <td>NaN</td>\n",
       "      <td>4.0</td>\n",
       "      <td>5.000000</td>\n",
       "      <td>10.0</td>\n",
       "      <td>30.0</td>\n",
       "      <td>7.0</td>\n",
       "      <td>1023.5</td>\n",
       "      <td>0.0</td>\n",
       "      <td>0.0</td>\n",
       "      <td>0.0</td>\n",
       "      <td>0.0</td>\n",
       "      <td>Y</td>\n",
       "    </tr>\n",
       "    <tr>\n",
       "      <th>13</th>\n",
       "      <td>1/1/2015 2:00</td>\n",
       "      <td>NaN</td>\n",
       "      <td>11.0</td>\n",
       "      <td>3.000000</td>\n",
       "      <td>10.0</td>\n",
       "      <td>30.0</td>\n",
       "      <td>6.0</td>\n",
       "      <td>1023.0</td>\n",
       "      <td>0.0</td>\n",
       "      <td>0.0</td>\n",
       "      <td>0.0</td>\n",
       "      <td>0.0</td>\n",
       "      <td>Y</td>\n",
       "    </tr>\n",
       "    <tr>\n",
       "      <th>20</th>\n",
       "      <td>1/1/2015 3:00</td>\n",
       "      <td>NaN</td>\n",
       "      <td>1.0</td>\n",
       "      <td>5.000000</td>\n",
       "      <td>10.0</td>\n",
       "      <td>30.0</td>\n",
       "      <td>8.0</td>\n",
       "      <td>1022.3</td>\n",
       "      <td>0.0</td>\n",
       "      <td>0.0</td>\n",
       "      <td>0.0</td>\n",
       "      <td>0.0</td>\n",
       "      <td>Y</td>\n",
       "    </tr>\n",
       "    <tr>\n",
       "      <th>27</th>\n",
       "      <td>1/1/2015 4:00</td>\n",
       "      <td>NaN</td>\n",
       "      <td>2.0</td>\n",
       "      <td>5.000000</td>\n",
       "      <td>10.0</td>\n",
       "      <td>29.0</td>\n",
       "      <td>9.0</td>\n",
       "      <td>1022.0</td>\n",
       "      <td>0.0</td>\n",
       "      <td>0.0</td>\n",
       "      <td>0.0</td>\n",
       "      <td>0.0</td>\n",
       "      <td>Y</td>\n",
       "    </tr>\n",
       "    <tr>\n",
       "      <th>34</th>\n",
       "      <td>1/1/2015 5:00</td>\n",
       "      <td>NaN</td>\n",
       "      <td>3.0</td>\n",
       "      <td>5.000000</td>\n",
       "      <td>10.0</td>\n",
       "      <td>28.0</td>\n",
       "      <td>9.0</td>\n",
       "      <td>1021.8</td>\n",
       "      <td>0.0</td>\n",
       "      <td>0.0</td>\n",
       "      <td>0.0</td>\n",
       "      <td>0.0</td>\n",
       "      <td>Y</td>\n",
       "    </tr>\n",
       "    <tr>\n",
       "      <th>...</th>\n",
       "      <td>...</td>\n",
       "      <td>...</td>\n",
       "      <td>...</td>\n",
       "      <td>...</td>\n",
       "      <td>...</td>\n",
       "      <td>...</td>\n",
       "      <td>...</td>\n",
       "      <td>...</td>\n",
       "      <td>...</td>\n",
       "      <td>...</td>\n",
       "      <td>...</td>\n",
       "      <td>...</td>\n",
       "      <td>...</td>\n",
       "    </tr>\n",
       "    <tr>\n",
       "      <th>29060</th>\n",
       "      <td>30-06-2015 17:00</td>\n",
       "      <td>NaN</td>\n",
       "      <td>1.0</td>\n",
       "      <td>7.666667</td>\n",
       "      <td>10.0</td>\n",
       "      <td>79.0</td>\n",
       "      <td>57.0</td>\n",
       "      <td>1014.1</td>\n",
       "      <td>0.0</td>\n",
       "      <td>0.0</td>\n",
       "      <td>0.0</td>\n",
       "      <td>0.0</td>\n",
       "      <td>N</td>\n",
       "    </tr>\n",
       "    <tr>\n",
       "      <th>29067</th>\n",
       "      <td>30-06-2015 18:00</td>\n",
       "      <td>NaN</td>\n",
       "      <td>2.0</td>\n",
       "      <td>6.333333</td>\n",
       "      <td>10.0</td>\n",
       "      <td>81.0</td>\n",
       "      <td>56.0</td>\n",
       "      <td>1013.4</td>\n",
       "      <td>0.0</td>\n",
       "      <td>0.0</td>\n",
       "      <td>0.0</td>\n",
       "      <td>0.0</td>\n",
       "      <td>N</td>\n",
       "    </tr>\n",
       "    <tr>\n",
       "      <th>29074</th>\n",
       "      <td>30-06-2015 19:00</td>\n",
       "      <td>NaN</td>\n",
       "      <td>4.0</td>\n",
       "      <td>5.000000</td>\n",
       "      <td>10.0</td>\n",
       "      <td>80.0</td>\n",
       "      <td>58.0</td>\n",
       "      <td>1012.5</td>\n",
       "      <td>0.0</td>\n",
       "      <td>0.0</td>\n",
       "      <td>0.0</td>\n",
       "      <td>0.0</td>\n",
       "      <td>N</td>\n",
       "    </tr>\n",
       "    <tr>\n",
       "      <th>29081</th>\n",
       "      <td>30-06-2015 20:00</td>\n",
       "      <td>NaN</td>\n",
       "      <td>5.0</td>\n",
       "      <td>8.000000</td>\n",
       "      <td>10.0</td>\n",
       "      <td>80.0</td>\n",
       "      <td>58.0</td>\n",
       "      <td>1012.4</td>\n",
       "      <td>0.0</td>\n",
       "      <td>0.0</td>\n",
       "      <td>0.0</td>\n",
       "      <td>0.0</td>\n",
       "      <td>N</td>\n",
       "    </tr>\n",
       "    <tr>\n",
       "      <th>29100</th>\n",
       "      <td>30-06-2015 23:00</td>\n",
       "      <td>NaN</td>\n",
       "      <td>3.0</td>\n",
       "      <td>7.000000</td>\n",
       "      <td>10.0</td>\n",
       "      <td>75.0</td>\n",
       "      <td>65.0</td>\n",
       "      <td>1011.8</td>\n",
       "      <td>0.0</td>\n",
       "      <td>0.0</td>\n",
       "      <td>0.0</td>\n",
       "      <td>0.0</td>\n",
       "      <td>N</td>\n",
       "    </tr>\n",
       "  </tbody>\n",
       "</table>\n",
       "<p>3043 rows × 13 columns</p>\n",
       "</div>"
      ],
      "text/plain": [
       "              pickup_dt borough  pickups       spd   vsb  temp  dewp     slp  \\\n",
       "6         1/1/2015 1:00     NaN      4.0  5.000000  10.0  30.0   7.0  1023.5   \n",
       "13        1/1/2015 2:00     NaN     11.0  3.000000  10.0  30.0   6.0  1023.0   \n",
       "20        1/1/2015 3:00     NaN      1.0  5.000000  10.0  30.0   8.0  1022.3   \n",
       "27        1/1/2015 4:00     NaN      2.0  5.000000  10.0  29.0   9.0  1022.0   \n",
       "34        1/1/2015 5:00     NaN      3.0  5.000000  10.0  28.0   9.0  1021.8   \n",
       "...                 ...     ...      ...       ...   ...   ...   ...     ...   \n",
       "29060  30-06-2015 17:00     NaN      1.0  7.666667  10.0  79.0  57.0  1014.1   \n",
       "29067  30-06-2015 18:00     NaN      2.0  6.333333  10.0  81.0  56.0  1013.4   \n",
       "29074  30-06-2015 19:00     NaN      4.0  5.000000  10.0  80.0  58.0  1012.5   \n",
       "29081  30-06-2015 20:00     NaN      5.0  8.000000  10.0  80.0  58.0  1012.4   \n",
       "29100  30-06-2015 23:00     NaN      3.0  7.000000  10.0  75.0  65.0  1011.8   \n",
       "\n",
       "       pcp01  pcp06  pcp24   sd hday  \n",
       "6        0.0    0.0    0.0  0.0    Y  \n",
       "13       0.0    0.0    0.0  0.0    Y  \n",
       "20       0.0    0.0    0.0  0.0    Y  \n",
       "27       0.0    0.0    0.0  0.0    Y  \n",
       "34       0.0    0.0    0.0  0.0    Y  \n",
       "...      ...    ...    ...  ...  ...  \n",
       "29060    0.0    0.0    0.0  0.0    N  \n",
       "29067    0.0    0.0    0.0  0.0    N  \n",
       "29074    0.0    0.0    0.0  0.0    N  \n",
       "29081    0.0    0.0    0.0  0.0    N  \n",
       "29100    0.0    0.0    0.0  0.0    N  \n",
       "\n",
       "[3043 rows x 13 columns]"
      ]
     },
     "execution_count": 65,
     "metadata": {},
     "output_type": "execute_result"
    }
   ],
   "source": [
    "\n",
    "\n",
    "df[df[['vsb','borough']].isnull().any(axis=1)]"
   ]
  },
  {
   "cell_type": "code",
   "execution_count": 67,
   "id": "ed5f9d77-1656-4b83-bd50-27fcc50e3bb3",
   "metadata": {},
   "outputs": [
    {
     "name": "stdout",
     "output_type": "stream",
     "text": [
      "              pickup_dt        borough  pickups  spd   vsb  temp  dewp  \\\n",
      "0         1/1/2015 1:00          Bronx    152.0  5.0  10.0  30.0   7.0   \n",
      "1         1/1/2015 1:00       Brooklyn   1519.0  5.0  10.0   NaN   7.0   \n",
      "2         1/1/2015 1:00            EWR      0.0  5.0  10.0  30.0   7.0   \n",
      "3         1/1/2015 1:00      Manhattan   5258.0  5.0  10.0  30.0   7.0   \n",
      "4         1/1/2015 1:00         Queens    405.0  5.0  10.0  30.0   7.0   \n",
      "...                 ...            ...      ...  ...   ...   ...   ...   \n",
      "29096  30-06-2015 23:00            EWR      0.0  7.0  10.0  75.0  65.0   \n",
      "29097  30-06-2015 23:00      Manhattan   3828.0  7.0  10.0  75.0  65.0   \n",
      "29098  30-06-2015 23:00         Queens    580.0  7.0  10.0  75.0  65.0   \n",
      "29099  30-06-2015 23:00  Staten Island      0.0  7.0  10.0  75.0  65.0   \n",
      "29100  30-06-2015 23:00            NaN      3.0  7.0  10.0  75.0  65.0   \n",
      "\n",
      "          slp  pcp01  pcp06  pcp24   sd hday  \n",
      "0      1023.5    0.0    0.0    0.0  0.0    Y  \n",
      "1      1023.5    0.0    0.0    0.0  0.0    ?  \n",
      "2      1023.5    0.0    0.0    0.0  0.0    Y  \n",
      "3      1023.5    0.0    0.0    0.0  0.0    Y  \n",
      "4      1023.5    0.0    0.0    0.0  0.0    Y  \n",
      "...       ...    ...    ...    ...  ...  ...  \n",
      "29096  1011.8    0.0    0.0    0.0  0.0    N  \n",
      "29097  1011.8    0.0    0.0    0.0  0.0    N  \n",
      "29098  1011.8    0.0    0.0    0.0  0.0    N  \n",
      "29099  1011.8    0.0    0.0    0.0  0.0    N  \n",
      "29100  1011.8    0.0    0.0    0.0  0.0    N  \n",
      "\n",
      "[29101 rows x 13 columns]\n"
     ]
    }
   ],
   "source": [
    "print(df_copy)"
   ]
  },
  {
   "cell_type": "code",
   "execution_count": 69,
   "id": "7744445e-f920-4055-9c33-e9b0d3a21a25",
   "metadata": {},
   "outputs": [
    {
     "data": {
      "text/plain": [
       "0        False\n",
       "1        False\n",
       "2        False\n",
       "3        False\n",
       "4        False\n",
       "         ...  \n",
       "29096    False\n",
       "29097    False\n",
       "29098    False\n",
       "29099    False\n",
       "29100    False\n",
       "Length: 29101, dtype: bool"
      ]
     },
     "execution_count": 69,
     "metadata": {},
     "output_type": "execute_result"
    }
   ],
   "source": [
    "df_copy.duplicated()"
   ]
  },
  {
   "cell_type": "markdown",
   "id": "cfa575cd-d226-4cea-8e11-34d707ce0a60",
   "metadata": {},
   "source": [
    "#to find outliers values in dataset"
   ]
  },
  {
   "cell_type": "code",
   "execution_count": 72,
   "id": "a9ce3699-026d-4b2d-a4da-9809c5e1636c",
   "metadata": {},
   "outputs": [
    {
     "name": "stdout",
     "output_type": "stream",
     "text": [
      "              pickup_dt    borough  pickups  spd   vsb  temp  dewp     slp  \\\n",
      "1         1/1/2015 1:00   Brooklyn   1519.0  5.0  10.0   NaN   7.0  1023.5   \n",
      "3         1/1/2015 1:00  Manhattan   5258.0  5.0  10.0  30.0   7.0  1023.5   \n",
      "8         1/1/2015 2:00   Brooklyn   1229.0  3.0  10.0   NaN   6.0  1023.0   \n",
      "10        1/1/2015 2:00  Manhattan   4345.0  3.0  10.0  30.0   6.0  1023.0   \n",
      "15        1/1/2015 3:00   Brooklyn   1601.0  5.0  10.0   NaN   8.0  1022.3   \n",
      "...                 ...        ...      ...  ...   ...   ...   ...     ...   \n",
      "29071  30-06-2015 19:00  Manhattan   4585.0  5.0  10.0  80.0  58.0  1012.5   \n",
      "29078  30-06-2015 20:00  Manhattan   4210.0  8.0  10.0  80.0  58.0  1012.4   \n",
      "29085  30-06-2015 21:00  Manhattan   4313.0  7.0  10.0  76.0  61.0  1012.4   \n",
      "29091  30-06-2015 22:00  Manhattan   4452.0  5.0  10.0  76.0  64.0  1011.9   \n",
      "29097  30-06-2015 23:00  Manhattan   3828.0  7.0  10.0  75.0  65.0  1011.8   \n",
      "\n",
      "       pcp01  pcp06  pcp24   sd hday  \n",
      "1        0.0    0.0    0.0  0.0    ?  \n",
      "3        0.0    0.0    0.0  0.0    Y  \n",
      "8        0.0    0.0    0.0  0.0    Y  \n",
      "10       0.0    0.0    0.0  0.0    Y  \n",
      "15       0.0    0.0    0.0  0.0    Y  \n",
      "...      ...    ...    ...  ...  ...  \n",
      "29071    0.0    0.0    0.0  0.0    N  \n",
      "29078    0.0    0.0    0.0  0.0    N  \n",
      "29085    0.0    0.0    0.0  0.0    N  \n",
      "29091    0.0    0.0    0.0  0.0    N  \n",
      "29097    0.0    0.0    0.0  0.0    N  \n",
      "\n",
      "[3498 rows x 13 columns]\n"
     ]
    }
   ],
   "source": [
    "q1 = df['pickups'].quantile(0.25)\n",
    "q2 = df['pickups'].quantile(0.75)\n",
    "iqr = q2 - q1\n",
    "\n",
    "lower_bound = q1 - 1.5 * iqr\n",
    "upper_bound = q2 + 1.5 * iqr\n",
    "\n",
    "outliers = df[(df['pickups'] < lower_bound) | (df['pickups'] > upper_bound)]\n",
    "print(outliers)\n"
   ]
  },
  {
   "cell_type": "code",
   "execution_count": 74,
   "id": "c6bbe36e-d988-4208-841c-5b18f05df15d",
   "metadata": {},
   "outputs": [
    {
     "ename": "NameError",
     "evalue": "name 'numeric_columns' is not defined",
     "output_type": "error",
     "traceback": [
      "\u001b[1;31m---------------------------------------------------------------------------\u001b[0m",
      "\u001b[1;31mNameError\u001b[0m                                 Traceback (most recent call last)",
      "Cell \u001b[1;32mIn[74], line 1\u001b[0m\n\u001b[1;32m----> 1\u001b[0m quantiles \u001b[38;5;241m=\u001b[39m df[numeric_columns]\u001b[38;5;241m.\u001b[39mquantile([\u001b[38;5;241m0.25\u001b[39m, \u001b[38;5;241m0.5\u001b[39m, \u001b[38;5;241m0.75\u001b[39m])\n\u001b[0;32m      2\u001b[0m \u001b[38;5;28mprint\u001b[39m(quantiles)\n",
      "\u001b[1;31mNameError\u001b[0m: name 'numeric_columns' is not defined"
     ]
    }
   ],
   "source": [
    "quantiles = df[numeric_columns].quantile([0.25, 0.5, 0.75])\n",
    "print(quantiles)\n",
    "\n"
   ]
  },
  {
   "cell_type": "code",
   "execution_count": 76,
   "id": "c98c1092-d8c4-44e2-a56a-53618f935bf0",
   "metadata": {},
   "outputs": [
    {
     "name": "stdout",
     "output_type": "stream",
     "text": [
      "None\n"
     ]
    }
   ],
   "source": [
    "df = pd.read_csv(\"C://Users//admin//Downloads//3-Uber_Data_New_csv.csv\")\n",
    "dup=df.drop_duplicates(inplace=True)\n",
    "print(dup)"
   ]
  },
  {
   "cell_type": "code",
   "execution_count": 78,
   "id": "862dfe4a-98dc-4228-8ff6-9a7035eba887",
   "metadata": {},
   "outputs": [
    {
     "name": "stdout",
     "output_type": "stream",
     "text": [
      " Dropped 0 duplicate rows.\n"
     ]
    }
   ],
   "source": [
    "before = df.shape[0]\n",
    "df.drop_duplicates(inplace=True)\n",
    "after = df.shape[0]\n",
    "print(f\" Dropped {before - after} duplicate rows.\")\n"
   ]
  },
  {
   "cell_type": "code",
   "execution_count": 80,
   "id": "1acbc07c-e818-4d14-bf12-df0729aa83ee",
   "metadata": {},
   "outputs": [
    {
     "data": {
      "text/plain": [
       "37.0"
      ]
     },
     "execution_count": 80,
     "metadata": {},
     "output_type": "execute_result"
    }
   ],
   "source": [
    "df['temp'].mode()[0]\n"
   ]
  },
  {
   "cell_type": "code",
   "execution_count": 82,
   "id": "11baa620-5af8-496a-9dcf-c85000a1229e",
   "metadata": {},
   "outputs": [],
   "source": [
    "df['temp'] = df['temp'].fillna(df['temp'].mode()[0])"
   ]
  },
  {
   "cell_type": "code",
   "execution_count": 84,
   "id": "4e2ea51a-e38f-483c-9fd0-e7ac5b69167e",
   "metadata": {},
   "outputs": [
    {
     "data": {
      "image/png": "[encoded data removed]",
      "text/plain": [
       "<Figure size 640x480 with 1 Axes>"
      ]
     },
     "metadata": {},
     "output_type": "display_data"
    }
   ],
   "source": [
    "sns.boxplot(data=df, x='temp');\n",
    "plt.show()"
   ]
  },
  {
   "cell_type": "code",
   "execution_count": 85,
   "id": "0ff61178-fcfb-4c12-868b-25d6028bb17b",
   "metadata": {},
   "outputs": [],
   "source": [
    "df['temp'] = df['temp'].fillna(df['temp'].mean())"
   ]
  },
  {
   "cell_type": "markdown",
   "id": "f5de3007-2c6b-4da1-92d6-1ffc45a1f32e",
   "metadata": {},
   "source": [
    "# max pickup"
   ]
  },
  {
   "cell_type": "code",
   "execution_count": 89,
   "id": "c2458ab0-c921-4ce4-9c5b-9a16c5f90576",
   "metadata": {},
   "outputs": [
    {
     "data": {
      "text/html": [
       "<div>\n",
       "<style scoped>\n",
       "    .dataframe tbody tr th:only-of-type {\n",
       "        vertical-align: middle;\n",
       "    }\n",
       "\n",
       "    .dataframe tbody tr th {\n",
       "        vertical-align: top;\n",
       "    }\n",
       "\n",
       "    .dataframe thead th {\n",
       "        text-align: right;\n",
       "    }\n",
       "</style>\n",
       "<table border=\"1\" class=\"dataframe\">\n",
       "  <thead>\n",
       "    <tr style=\"text-align: right;\">\n",
       "      <th></th>\n",
       "      <th>pickup_dt</th>\n",
       "      <th>borough</th>\n",
       "      <th>pickups</th>\n",
       "      <th>spd</th>\n",
       "      <th>vsb</th>\n",
       "      <th>temp</th>\n",
       "      <th>dewp</th>\n",
       "      <th>slp</th>\n",
       "      <th>pcp01</th>\n",
       "      <th>pcp06</th>\n",
       "      <th>pcp24</th>\n",
       "      <th>sd</th>\n",
       "      <th>hday</th>\n",
       "    </tr>\n",
       "  </thead>\n",
       "  <tbody>\n",
       "    <tr>\n",
       "      <th>28604</th>\n",
       "      <td>27-06-2015 22:00</td>\n",
       "      <td>Manhattan</td>\n",
       "      <td>7883.0</td>\n",
       "      <td>8.0</td>\n",
       "      <td>5.5</td>\n",
       "      <td>60.0</td>\n",
       "      <td>56.5</td>\n",
       "      <td>1016.9</td>\n",
       "      <td>0.065</td>\n",
       "      <td>0.0</td>\n",
       "      <td>0.0</td>\n",
       "      <td>0.0</td>\n",
       "      <td>N</td>\n",
       "    </tr>\n",
       "  </tbody>\n",
       "</table>\n",
       "</div>"
      ],
      "text/plain": [
       "              pickup_dt    borough  pickups  spd  vsb  temp  dewp     slp  \\\n",
       "28604  27-06-2015 22:00  Manhattan   7883.0  8.0  5.5  60.0  56.5  1016.9   \n",
       "\n",
       "       pcp01  pcp06  pcp24   sd hday  \n",
       "28604  0.065    0.0    0.0  0.0    N  "
      ]
     },
     "execution_count": 89,
     "metadata": {},
     "output_type": "execute_result"
    }
   ],
   "source": [
    "df[df[\"pickups\"]== df[\"pickups\"].max()]"
   ]
  },
  {
   "cell_type": "markdown",
   "id": "a878ddfa-a873-424c-baec-a946cc59da24",
   "metadata": {},
   "source": [
    "#max speed"
   ]
  },
  {
   "cell_type": "code",
   "execution_count": 92,
   "id": "30f0452b-a7f3-48d9-a73b-91807f7dadb3",
   "metadata": {},
   "outputs": [
    {
     "data": {
      "text/html": [
       "<div>\n",
       "<style scoped>\n",
       "    .dataframe tbody tr th:only-of-type {\n",
       "        vertical-align: middle;\n",
       "    }\n",
       "\n",
       "    .dataframe tbody tr th {\n",
       "        vertical-align: top;\n",
       "    }\n",
       "\n",
       "    .dataframe thead th {\n",
       "        text-align: right;\n",
       "    }\n",
       "</style>\n",
       "<table border=\"1\" class=\"dataframe\">\n",
       "  <thead>\n",
       "    <tr style=\"text-align: right;\">\n",
       "      <th></th>\n",
       "      <th>pickup_dt</th>\n",
       "      <th>borough</th>\n",
       "      <th>pickups</th>\n",
       "      <th>spd</th>\n",
       "      <th>vsb</th>\n",
       "      <th>temp</th>\n",
       "      <th>dewp</th>\n",
       "      <th>slp</th>\n",
       "      <th>pcp01</th>\n",
       "      <th>pcp06</th>\n",
       "      <th>pcp24</th>\n",
       "      <th>sd</th>\n",
       "      <th>hday</th>\n",
       "    </tr>\n",
       "  </thead>\n",
       "  <tbody>\n",
       "    <tr>\n",
       "      <th>1110</th>\n",
       "      <td>8/1/2015 1:00</td>\n",
       "      <td>Bronx</td>\n",
       "      <td>14.0</td>\n",
       "      <td>21.0</td>\n",
       "      <td>10.0</td>\n",
       "      <td>12.0</td>\n",
       "      <td>-13.0</td>\n",
       "      <td>1022.7</td>\n",
       "      <td>0.0</td>\n",
       "      <td>0.0</td>\n",
       "      <td>0.0</td>\n",
       "      <td>0.833333</td>\n",
       "      <td>N</td>\n",
       "    </tr>\n",
       "    <tr>\n",
       "      <th>1111</th>\n",
       "      <td>8/1/2015 1:00</td>\n",
       "      <td>Brooklyn</td>\n",
       "      <td>250.0</td>\n",
       "      <td>21.0</td>\n",
       "      <td>10.0</td>\n",
       "      <td>37.0</td>\n",
       "      <td>-13.0</td>\n",
       "      <td>1022.7</td>\n",
       "      <td>0.0</td>\n",
       "      <td>0.0</td>\n",
       "      <td>0.0</td>\n",
       "      <td>0.833333</td>\n",
       "      <td>N</td>\n",
       "    </tr>\n",
       "    <tr>\n",
       "      <th>1112</th>\n",
       "      <td>8/1/2015 1:00</td>\n",
       "      <td>EWR</td>\n",
       "      <td>0.0</td>\n",
       "      <td>21.0</td>\n",
       "      <td>10.0</td>\n",
       "      <td>12.0</td>\n",
       "      <td>-13.0</td>\n",
       "      <td>1022.7</td>\n",
       "      <td>0.0</td>\n",
       "      <td>0.0</td>\n",
       "      <td>0.0</td>\n",
       "      <td>0.833333</td>\n",
       "      <td>N</td>\n",
       "    </tr>\n",
       "    <tr>\n",
       "      <th>1113</th>\n",
       "      <td>8/1/2015 1:00</td>\n",
       "      <td>Manhattan</td>\n",
       "      <td>739.0</td>\n",
       "      <td>21.0</td>\n",
       "      <td>10.0</td>\n",
       "      <td>12.0</td>\n",
       "      <td>-13.0</td>\n",
       "      <td>1022.7</td>\n",
       "      <td>0.0</td>\n",
       "      <td>0.0</td>\n",
       "      <td>0.0</td>\n",
       "      <td>0.833333</td>\n",
       "      <td>N</td>\n",
       "    </tr>\n",
       "    <tr>\n",
       "      <th>1114</th>\n",
       "      <td>8/1/2015 1:00</td>\n",
       "      <td>Queens</td>\n",
       "      <td>186.0</td>\n",
       "      <td>21.0</td>\n",
       "      <td>10.0</td>\n",
       "      <td>12.0</td>\n",
       "      <td>-13.0</td>\n",
       "      <td>1022.7</td>\n",
       "      <td>0.0</td>\n",
       "      <td>0.0</td>\n",
       "      <td>0.0</td>\n",
       "      <td>0.833333</td>\n",
       "      <td>N</td>\n",
       "    </tr>\n",
       "    <tr>\n",
       "      <th>1115</th>\n",
       "      <td>8/1/2015 1:00</td>\n",
       "      <td>Staten Island</td>\n",
       "      <td>0.0</td>\n",
       "      <td>21.0</td>\n",
       "      <td>10.0</td>\n",
       "      <td>12.0</td>\n",
       "      <td>-13.0</td>\n",
       "      <td>1022.7</td>\n",
       "      <td>0.0</td>\n",
       "      <td>0.0</td>\n",
       "      <td>0.0</td>\n",
       "      <td>0.833333</td>\n",
       "      <td>N</td>\n",
       "    </tr>\n",
       "    <tr>\n",
       "      <th>1116</th>\n",
       "      <td>8/1/2015 1:00</td>\n",
       "      <td>NaN</td>\n",
       "      <td>1.0</td>\n",
       "      <td>21.0</td>\n",
       "      <td>10.0</td>\n",
       "      <td>12.0</td>\n",
       "      <td>-13.0</td>\n",
       "      <td>1022.7</td>\n",
       "      <td>0.0</td>\n",
       "      <td>0.0</td>\n",
       "      <td>0.0</td>\n",
       "      <td>0.833333</td>\n",
       "      <td>N</td>\n",
       "    </tr>\n",
       "  </tbody>\n",
       "</table>\n",
       "</div>"
      ],
      "text/plain": [
       "          pickup_dt        borough  pickups   spd   vsb  temp  dewp     slp  \\\n",
       "1110  8/1/2015 1:00          Bronx     14.0  21.0  10.0  12.0 -13.0  1022.7   \n",
       "1111  8/1/2015 1:00       Brooklyn    250.0  21.0  10.0  37.0 -13.0  1022.7   \n",
       "1112  8/1/2015 1:00            EWR      0.0  21.0  10.0  12.0 -13.0  1022.7   \n",
       "1113  8/1/2015 1:00      Manhattan    739.0  21.0  10.0  12.0 -13.0  1022.7   \n",
       "1114  8/1/2015 1:00         Queens    186.0  21.0  10.0  12.0 -13.0  1022.7   \n",
       "1115  8/1/2015 1:00  Staten Island      0.0  21.0  10.0  12.0 -13.0  1022.7   \n",
       "1116  8/1/2015 1:00            NaN      1.0  21.0  10.0  12.0 -13.0  1022.7   \n",
       "\n",
       "      pcp01  pcp06  pcp24        sd hday  \n",
       "1110    0.0    0.0    0.0  0.833333    N  \n",
       "1111    0.0    0.0    0.0  0.833333    N  \n",
       "1112    0.0    0.0    0.0  0.833333    N  \n",
       "1113    0.0    0.0    0.0  0.833333    N  \n",
       "1114    0.0    0.0    0.0  0.833333    N  \n",
       "1115    0.0    0.0    0.0  0.833333    N  \n",
       "1116    0.0    0.0    0.0  0.833333    N  "
      ]
     },
     "execution_count": 92,
     "metadata": {},
     "output_type": "execute_result"
    }
   ],
   "source": [
    "df[df[\"spd\"]== df[\"spd\"].max()]"
   ]
  },
  {
   "cell_type": "markdown",
   "id": "b6669fe8-ddf1-45cc-ac58-d122de983248",
   "metadata": {},
   "source": [
    "#misssing values for borough , pickups and temp"
   ]
  },
  {
   "cell_type": "code",
   "execution_count": 95,
   "id": "1bf54704-36f8-4a72-8f80-e0482a6e2a86",
   "metadata": {},
   "outputs": [
    {
     "data": {
      "text/plain": [
       "3043"
      ]
     },
     "execution_count": 95,
     "metadata": {},
     "output_type": "execute_result"
    }
   ],
   "source": [
    "df['borough'].isnull().sum()"
   ]
  },
  {
   "cell_type": "code",
   "execution_count": 97,
   "id": "18b0cff3-c616-41a2-88eb-aae96031ccc9",
   "metadata": {},
   "outputs": [
    {
     "data": {
      "text/plain": [
       "2"
      ]
     },
     "execution_count": 97,
     "metadata": {},
     "output_type": "execute_result"
    }
   ],
   "source": [
    "df['pickups'].isnull().sum()\n"
   ]
  },
  {
   "cell_type": "code",
   "execution_count": 99,
   "id": "ab332d95-c081-461c-8e9d-e88a7319216a",
   "metadata": {},
   "outputs": [
    {
     "data": {
      "text/plain": [
       "0"
      ]
     },
     "execution_count": 99,
     "metadata": {},
     "output_type": "execute_result"
    }
   ],
   "source": [
    "df['temp'].isnull().sum()"
   ]
  },
  {
   "cell_type": "code",
   "execution_count": 101,
   "id": "e4c3aa25-824b-44c9-910f-3310205f3ecf",
   "metadata": {},
   "outputs": [],
   "source": [
    "# rest of the coulmn have complete column\n"
   ]
  },
  {
   "cell_type": "code",
   "execution_count": 103,
   "id": "e2622b00-b59f-46ac-871a-5dd93e6421f4",
   "metadata": {},
   "outputs": [],
   "source": [
    "#Numerical Features: temp , borough , precipitation , speed , sd(snow depth)"
   ]
  },
  {
   "cell_type": "code",
   "execution_count": 105,
   "id": "e56eac56-cff1-45ee-87be-4f6dfc834681",
   "metadata": {},
   "outputs": [
    {
     "data": {
      "text/plain": [
       "count    29099.000000\n",
       "mean       490.236022\n",
       "std        995.680628\n",
       "min          0.000000\n",
       "25%          1.000000\n",
       "50%         54.000000\n",
       "75%        449.000000\n",
       "max       7883.000000\n",
       "Name: pickups, dtype: float64"
      ]
     },
     "execution_count": 105,
     "metadata": {},
     "output_type": "execute_result"
    }
   ],
   "source": [
    "df['pickups'].describe()"
   ]
  },
  {
   "cell_type": "markdown",
   "id": "e3334dd2-6278-4439-b72a-70b097480ba8",
   "metadata": {},
   "source": [
    "#The mean is much higher than the median, indicating right-skewed data (many low pickup values, few very high ones)."
   ]
  },
  {
   "cell_type": "code",
   "execution_count": 108,
   "id": "3911bcca-d4fc-4a14-a02a-af0ced0cedcb",
   "metadata": {},
   "outputs": [],
   "source": [
    "#to check whether data is skewed and normally distributed"
   ]
  },
  {
   "cell_type": "code",
   "execution_count": 110,
   "id": "d80dbd15-1c04-4b59-aa77-0587298c35c8",
   "metadata": {},
   "outputs": [
    {
     "data": {
      "image/png": "[encoded data removed]",
      "text/plain": [
       "<Figure size 640x480 with 1 Axes>"
      ]
     },
     "metadata": {},
     "output_type": "display_data"
    }
   ],
   "source": [
    "sns.histplot(df['pickups'], kde=True, bins=50)\n",
    "plt.title(\"Distribution of Pickups\")\n",
    "plt.xlabel(\"Number of Pickups\")\n",
    "plt.ylabel(\"Frequency\")\n",
    "plt.show()"
   ]
  },
  {
   "cell_type": "code",
   "execution_count": 111,
   "id": "d6d9dac6-368a-49c1-883b-004e57fe48e2",
   "metadata": {},
   "outputs": [
    {
     "ename": "SyntaxError",
     "evalue": "invalid syntax (947849277.py, line 3)",
     "output_type": "error",
     "traceback": [
      "\u001b[1;36m  Cell \u001b[1;32mIn[111], line 3\u001b[1;36m\u001b[0m\n\u001b[1;33m    Majority of values are concentrated under 1000 pickups.\u001b[0m\n\u001b[1;37m             ^\u001b[0m\n\u001b[1;31mSyntaxError\u001b[0m\u001b[1;31m:\u001b[0m invalid syntax\n"
     ]
    }
   ],
   "source": [
    "#The distribution shows a heavily skewed curve with a long tail on the right.\n",
    "\n",
    "Majority of values are concentrated under 1000 pickups."
   ]
  },
  {
   "cell_type": "code",
   "execution_count": 113,
   "id": "90e955ef-0f2d-4b88-9b5a-16abdd2b6b99",
   "metadata": {},
   "outputs": [],
   "source": [
    "#the given data is skewed data"
   ]
  },
  {
   "cell_type": "code",
   "execution_count": 115,
   "id": "7cbc69d3-ac99-497e-bb98-8548594dbc1e",
   "metadata": {},
   "outputs": [],
   "source": [
    "#box plot for identify outliers"
   ]
  },
  {
   "cell_type": "code",
   "execution_count": 117,
   "id": "c3b523c0-a7e7-4975-be13-9e2ae6c92689",
   "metadata": {},
   "outputs": [
    {
     "data": {
      "image/png": "[encoded data removed]",
      "text/plain": [
       "<Figure size 640x480 with 1 Axes>"
      ]
     },
     "metadata": {},
     "output_type": "display_data"
    }
   ],
   "source": [
    "sns.boxplot(x=df['pickups'])\n",
    "plt.title(\"Boxplot of Pickups\")\n",
    "plt.show()\n"
   ]
  },
  {
   "cell_type": "markdown",
   "id": "ee0c4546-d2df-46cf-8b7b-9b6113094640",
   "metadata": {},
   "source": [
    "#Segment pickups by borough, hour, or weather"
   ]
  },
  {
   "cell_type": "markdown",
   "id": "80041424-d4f1-475b-9502-4ad82864cd45",
   "metadata": {},
   "source": [
    "#Preprocess datetime and extract features"
   ]
  },
  {
   "cell_type": "code",
   "execution_count": 121,
   "id": "6af3970a-40a0-4312-b286-7df98f0bd644",
   "metadata": {},
   "outputs": [],
   "source": [
    "\n",
    "# Convert pickup_dt to datetime and extract features\n",
    "df['pickup_dt'] = pd.to_datetime(df['pickup_dt'], errors='coerce')\n",
    "df['hour'] = df['pickup_dt'].dt.hour\n",
    "df['day'] = df['pickup_dt'].dt.day\n",
    "df['month'] = df['pickup_dt'].dt.month\n",
    "df['weekday'] = df['pickup_dt'].dt.dayofweek\n",
    "\n",
    "# Drop rows where pickups is missing\n",
    "df_cleaned = df.dropna(subset=['pickups']).copy()\n",
    "\n",
    "# Fill or clean other columns\n",
    "df_cleaned['temp'] = df_cleaned['temp'].fillna(df_cleaned['temp'].median())\n",
    "df_cleaned['borough'] = df_cleaned['borough'].fillna('Unknown')\n",
    "df_cleaned['hday'] = df_cleaned['hday'].replace('?', df_cleaned['hday'].mode()[0])\n"
   ]
  },
  {
   "cell_type": "code",
   "execution_count": 123,
   "id": "ab275c43-80a6-4b5d-91ab-7901c5d37afe",
   "metadata": {},
   "outputs": [],
   "source": [
    "pickup_rounded = df_cleaned['pickups'].round(-2)\n",
    "value_counts = pickup_rounded.value_counts().sort_values(ascending=False)"
   ]
  },
  {
   "cell_type": "code",
   "execution_count": null,
   "id": "a01156cb-2480-4af0-9894-c514aa2674b3",
   "metadata": {},
   "outputs": [],
   "source": []
  },
  {
   "cell_type": "code",
   "execution_count": null,
   "id": "cdc377a8-a0a8-406a-82f9-d7ce8bea63a8",
   "metadata": {},
   "outputs": [],
   "source": []
  },
  {
   "cell_type": "code",
   "execution_count": null,
   "id": "5d50aaed-e4c7-4a60-afa6-b995392b48fa",
   "metadata": {},
   "outputs": [],
   "source": []
  },
  {
   "cell_type": "code",
   "execution_count": 128,
   "id": "09aa8943-14ad-4828-8ff6-3c3d7a49caae",
   "metadata": {},
   "outputs": [
    {
     "ename": "KeyError",
     "evalue": "\"['precipitation'] not in index\"",
     "output_type": "error",
     "traceback": [
      "\u001b[1;31m---------------------------------------------------------------------------\u001b[0m",
      "\u001b[1;31mKeyError\u001b[0m                                  Traceback (most recent call last)",
      "Cell \u001b[1;32mIn[128], line 8\u001b[0m\n\u001b[0;32m      6\u001b[0m \u001b[38;5;66;03m# Step 1: Select features and target\u001b[39;00m\n\u001b[0;32m      7\u001b[0m features \u001b[38;5;241m=\u001b[39m [\u001b[38;5;124m'\u001b[39m\u001b[38;5;124mhour\u001b[39m\u001b[38;5;124m'\u001b[39m, \u001b[38;5;124m'\u001b[39m\u001b[38;5;124mday\u001b[39m\u001b[38;5;124m'\u001b[39m, \u001b[38;5;124m'\u001b[39m\u001b[38;5;124mmonth\u001b[39m\u001b[38;5;124m'\u001b[39m, \u001b[38;5;124m'\u001b[39m\u001b[38;5;124mweekday\u001b[39m\u001b[38;5;124m'\u001b[39m, \u001b[38;5;124m'\u001b[39m\u001b[38;5;124mtemp\u001b[39m\u001b[38;5;124m'\u001b[39m, \u001b[38;5;124m'\u001b[39m\u001b[38;5;124mprecipitation\u001b[39m\u001b[38;5;124m'\u001b[39m]  \u001b[38;5;66;03m# Add more if needed\u001b[39;00m\n\u001b[1;32m----> 8\u001b[0m X \u001b[38;5;241m=\u001b[39m df_cleaned[features]\n\u001b[0;32m      9\u001b[0m y \u001b[38;5;241m=\u001b[39m df_cleaned[\u001b[38;5;124m'\u001b[39m\u001b[38;5;124mpickups\u001b[39m\u001b[38;5;124m'\u001b[39m]\n\u001b[0;32m     11\u001b[0m \u001b[38;5;66;03m# Step 2: Train-test split\u001b[39;00m\n",
      "File \u001b[1;32m~\\anaconda3\\Lib\\site-packages\\pandas\\core\\frame.py:4108\u001b[0m, in \u001b[0;36mDataFrame.__getitem__\u001b[1;34m(self, key)\u001b[0m\n\u001b[0;32m   4106\u001b[0m     \u001b[38;5;28;01mif\u001b[39;00m is_iterator(key):\n\u001b[0;32m   4107\u001b[0m         key \u001b[38;5;241m=\u001b[39m \u001b[38;5;28mlist\u001b[39m(key)\n\u001b[1;32m-> 4108\u001b[0m     indexer \u001b[38;5;241m=\u001b[39m \u001b[38;5;28mself\u001b[39m\u001b[38;5;241m.\u001b[39mcolumns\u001b[38;5;241m.\u001b[39m_get_indexer_strict(key, \u001b[38;5;124m\"\u001b[39m\u001b[38;5;124mcolumns\u001b[39m\u001b[38;5;124m\"\u001b[39m)[\u001b[38;5;241m1\u001b[39m]\n\u001b[0;32m   4110\u001b[0m \u001b[38;5;66;03m# take() does not accept boolean indexers\u001b[39;00m\n\u001b[0;32m   4111\u001b[0m \u001b[38;5;28;01mif\u001b[39;00m \u001b[38;5;28mgetattr\u001b[39m(indexer, \u001b[38;5;124m\"\u001b[39m\u001b[38;5;124mdtype\u001b[39m\u001b[38;5;124m\"\u001b[39m, \u001b[38;5;28;01mNone\u001b[39;00m) \u001b[38;5;241m==\u001b[39m \u001b[38;5;28mbool\u001b[39m:\n",
      "File \u001b[1;32m~\\anaconda3\\Lib\\site-packages\\pandas\\core\\indexes\\base.py:6200\u001b[0m, in \u001b[0;36mIndex._get_indexer_strict\u001b[1;34m(self, key, axis_name)\u001b[0m\n\u001b[0;32m   6197\u001b[0m \u001b[38;5;28;01melse\u001b[39;00m:\n\u001b[0;32m   6198\u001b[0m     keyarr, indexer, new_indexer \u001b[38;5;241m=\u001b[39m \u001b[38;5;28mself\u001b[39m\u001b[38;5;241m.\u001b[39m_reindex_non_unique(keyarr)\n\u001b[1;32m-> 6200\u001b[0m \u001b[38;5;28mself\u001b[39m\u001b[38;5;241m.\u001b[39m_raise_if_missing(keyarr, indexer, axis_name)\n\u001b[0;32m   6202\u001b[0m keyarr \u001b[38;5;241m=\u001b[39m \u001b[38;5;28mself\u001b[39m\u001b[38;5;241m.\u001b[39mtake(indexer)\n\u001b[0;32m   6203\u001b[0m \u001b[38;5;28;01mif\u001b[39;00m \u001b[38;5;28misinstance\u001b[39m(key, Index):\n\u001b[0;32m   6204\u001b[0m     \u001b[38;5;66;03m# GH 42790 - Preserve name from an Index\u001b[39;00m\n",
      "File \u001b[1;32m~\\anaconda3\\Lib\\site-packages\\pandas\\core\\indexes\\base.py:6252\u001b[0m, in \u001b[0;36mIndex._raise_if_missing\u001b[1;34m(self, key, indexer, axis_name)\u001b[0m\n\u001b[0;32m   6249\u001b[0m     \u001b[38;5;28;01mraise\u001b[39;00m \u001b[38;5;167;01mKeyError\u001b[39;00m(\u001b[38;5;124mf\u001b[39m\u001b[38;5;124m\"\u001b[39m\u001b[38;5;124mNone of [\u001b[39m\u001b[38;5;132;01m{\u001b[39;00mkey\u001b[38;5;132;01m}\u001b[39;00m\u001b[38;5;124m] are in the [\u001b[39m\u001b[38;5;132;01m{\u001b[39;00maxis_name\u001b[38;5;132;01m}\u001b[39;00m\u001b[38;5;124m]\u001b[39m\u001b[38;5;124m\"\u001b[39m)\n\u001b[0;32m   6251\u001b[0m not_found \u001b[38;5;241m=\u001b[39m \u001b[38;5;28mlist\u001b[39m(ensure_index(key)[missing_mask\u001b[38;5;241m.\u001b[39mnonzero()[\u001b[38;5;241m0\u001b[39m]]\u001b[38;5;241m.\u001b[39munique())\n\u001b[1;32m-> 6252\u001b[0m \u001b[38;5;28;01mraise\u001b[39;00m \u001b[38;5;167;01mKeyError\u001b[39;00m(\u001b[38;5;124mf\u001b[39m\u001b[38;5;124m\"\u001b[39m\u001b[38;5;132;01m{\u001b[39;00mnot_found\u001b[38;5;132;01m}\u001b[39;00m\u001b[38;5;124m not in index\u001b[39m\u001b[38;5;124m\"\u001b[39m)\n",
      "\u001b[1;31mKeyError\u001b[0m: \"['precipitation'] not in index\""
     ]
    }
   ],
   "source": [
    "from sklearn.linear_model import LinearRegression\n",
    "from sklearn.model_selection import train_test_split\n",
    "from sklearn.metrics import mean_squared_error, r2_score\n",
    "import numpy as np\n",
    "\n",
    "# Step 1: Select features and target\n",
    "features = ['hour', 'day', 'month', 'weekday', 'temp', 'precipitation']  # Add more if needed\n",
    "X = df_cleaned[features]\n",
    "y = df_cleaned['pickups']\n",
    "\n",
    "# Step 2: Train-test split\n",
    "x_trainFinal, x_valFinal, y_train, y_val = train_test_split(X, y, test_size=0.2, random_state=42)\n",
    "\n",
    "# Step 3: Train Linear Regression\n",
    "LR = LinearRegression()\n",
    "LR.fit(x_trainFinal, y_train)\n",
    "\n",
    "# Step 4: Predictions\n",
    "y_train_pred = LR.predict(x_trainFinal)\n",
    "y_val_pred = LR.predict(x_valFinal)\n",
    "\n",
    "# Step 5: Evaluation\n",
    "rmse_train = np.sqrt(mean_squared_error(y_train, y_train_pred))\n",
    "r2_train = r2_score(y_train, y_train_pred)\n",
    "rmse_val = np.sqrt(mean_squared_error(y_val, y_val_pred))\n",
    "r2_val = r2_score(y_val, y_val_pred)\n",
    "\n",
    "# Step 6: Output results\n",
    "print(\"Train RMSE:\", rmse_train, \"R²:\", r2_train)\n",
    "print(\"Validation RMSE:\", rmse_val, \"R²:\", r2_val)\n"
   ]
  },
  {
   "cell_type": "code",
   "execution_count": null,
   "id": "c3746060-933e-45e2-aef1-d8517b83be08",
   "metadata": {},
   "outputs": [],
   "source": [
    "from sklearn.linear_model import LinearRegression\n",
    "from sklearn.\n",
    "from sklearn.model_selection import train_test_split\n",
    "from sklearn.metrics import mean_squared_error, r2_score\n",
    "import numpy as np\n",
    "\n",
    "#  Rename the column if not already done\n",
    "df_cleaned.rename(columns={'pcp01': 'precipitation'}, inplace=True)\n",
    "\n",
    "# Step 1: Select features and target\n",
    "features = ['hour', 'day', 'month', 'weekday', 'temp', 'precipitation']\n",
    "X = df_cleaned[features]\n",
    "y = df_cleaned['pickups']\n",
    "\n",
    "# Step 2: Train-test split\n",
    "x_trainFinal, x_valFinal, y_train, y_val = train_test_split(X, y, test_size=0.2, random_state=42)\n",
    "\n",
    "# Step 3: Train Linear Regression\n",
    "LR = LinearRegression()\n",
    "LR.fit(x_trainFinal, y_train)\n",
    "\n",
    "# Step 4: Predictions\n",
    "y_train_pred = LR.predict(x_trainFinal)\n",
    "y_val_pred = LR.predict(x_valFinal)\n",
    "\n",
    "# Step 5: Evaluation\n",
    "rmse_train = np.sqrt(mean_squared_error(y_train, y_train_pred))\n",
    "r2_train = r2_score(y_train, y_train_pred)\n",
    "rmse_val = np.sqrt(mean_squared_error(y_val, y_val_pred))\n",
    "r2_val = r2_score(y_val, y_val_pred)\n",
    "\n",
    "# Step 6: Output results\n",
    "print(\"Train RMSE:\", rmse_train, \"R²:\", r2_train)\n",
    "print(\"Validation RMSE:\", rmse_val, \"R²:\", r2_val)\n"
   ]
  },
  {
   "cell_type": "code",
   "execution_count": null,
   "id": "7a7ac7e6-8b5e-4b64-8cf9-3e258a5f9d98",
   "metadata": {},
   "outputs": [],
   "source": [
    "df.isnull().any()\n",
    "\n"
   ]
  },
  {
   "cell_type": "code",
   "execution_count": null,
   "id": "4528f9af-751f-4b9c-a5dd-eeb64dede306",
   "metadata": {},
   "outputs": [],
   "source": [
    "\n",
    "df_cleaned['temp'] = df_cleaned['temp'].fillna(df_cleaned['temp'].median())\n",
    "\n"
   ]
  },
  {
   "cell_type": "code",
   "execution_count": 133,
   "id": "6b74b0e6-440b-4940-8823-d12a335d31d0",
   "metadata": {},
   "outputs": [],
   "source": [
    "df_cleaned['hour'] = df_cleaned['hour'].fillna(df_cleaned['hour'].median())\n"
   ]
  },
  {
   "cell_type": "code",
   "execution_count": 135,
   "id": "3c7e9003-38ab-4335-96c6-a1c7c152db08",
   "metadata": {},
   "outputs": [],
   "source": [
    "df_cleaned['day'] = df_cleaned['day'].fillna(df_cleaned['day'].median())"
   ]
  },
  {
   "cell_type": "code",
   "execution_count": 137,
   "id": "c4de5963-09d7-4724-9666-2f5d69362791",
   "metadata": {},
   "outputs": [],
   "source": [
    "df_cleaned['month'] = df_cleaned['month'].fillna(df_cleaned['month'].median())"
   ]
  },
  {
   "cell_type": "code",
   "execution_count": 139,
   "id": "b5b85039-775a-4cb9-a75f-e708eaa2fd9d",
   "metadata": {},
   "outputs": [],
   "source": [
    "df_cleaned['pickups' ] = df_cleaned['pickups'].fillna(df_cleaned['pickups'].median())\n"
   ]
  },
  {
   "cell_type": "code",
   "execution_count": 141,
   "id": "d25c1d52-6630-4b4f-9b1b-3858707cd8ca",
   "metadata": {},
   "outputs": [],
   "source": [
    "df_cleaned['pickup_dt' ] = df_cleaned['pickup_dt'].fillna(df_cleaned['pickup_dt'].median())\n"
   ]
  },
  {
   "cell_type": "code",
   "execution_count": 143,
   "id": "6e03cfe2-6ecd-4854-82cc-5cf51e8ae3c7",
   "metadata": {},
   "outputs": [],
   "source": [
    "df_cleaned['weekday' ] = df_cleaned['weekday'].fillna(df_cleaned['weekday'].median())"
   ]
  },
  {
   "cell_type": "code",
   "execution_count": 145,
   "id": "9a11fd9b-9ef8-4e8a-848f-15a46973b2d0",
   "metadata": {},
   "outputs": [],
   "source": [
    "df_cleaned['hour'] = df_cleaned['hour'].fillna(df_cleaned['hour'].median())"
   ]
  },
  {
   "cell_type": "code",
   "execution_count": 147,
   "id": "0c497ee9-ce2e-4839-9df0-7f8ed8cf5b84",
   "metadata": {},
   "outputs": [],
   "source": [
    "df['borough'] = df['borough'].fillna(df['borough'].mode()[0])\n"
   ]
  },
  {
   "cell_type": "code",
   "execution_count": 149,
   "id": "b18ad840-f147-4e6f-b07f-eb72ec11eabe",
   "metadata": {},
   "outputs": [
    {
     "data": {
      "text/plain": [
       "pickup_dt     True\n",
       "borough      False\n",
       "pickups       True\n",
       "spd          False\n",
       "vsb          False\n",
       "temp         False\n",
       "dewp         False\n",
       "slp          False\n",
       "pcp01        False\n",
       "pcp06        False\n",
       "pcp24        False\n",
       "sd           False\n",
       "hday         False\n",
       "hour          True\n",
       "day           True\n",
       "month         True\n",
       "weekday       True\n",
       "dtype: bool"
      ]
     },
     "execution_count": 149,
     "metadata": {},
     "output_type": "execute_result"
    }
   ],
   "source": [
    "df.isnull().any()\n"
   ]
  },
  {
   "cell_type": "code",
   "execution_count": 150,
   "id": "274c49a1-80e3-4cc3-b9d9-eebf7a96a39c",
   "metadata": {},
   "outputs": [
    {
     "data": {
      "text/plain": [
       "pickup_dt    0\n",
       "borough      0\n",
       "pickups      0\n",
       "spd          0\n",
       "vsb          0\n",
       "temp         0\n",
       "dewp         0\n",
       "slp          0\n",
       "pcp01        0\n",
       "pcp06        0\n",
       "pcp24        0\n",
       "sd           0\n",
       "hday         0\n",
       "hour         0\n",
       "day          0\n",
       "month        0\n",
       "weekday      0\n",
       "dtype: int64"
      ]
     },
     "execution_count": 150,
     "metadata": {},
     "output_type": "execute_result"
    }
   ],
   "source": [
    "df_cleaned.isnull().sum()\n"
   ]
  },
  {
   "cell_type": "code",
   "execution_count": null,
   "id": "9fd23d9e-85b3-4cb9-b54e-1007b0a8933b",
   "metadata": {},
   "outputs": [],
   "source": [
    "!pip install xgboost\n"
   ]
  },
  {
   "cell_type": "code",
   "execution_count": null,
   "id": "572e99c5-eb6d-4b29-b657-6eee13e84f7d",
   "metadata": {},
   "outputs": [],
   "source": [
    "df_cleaned = df[['hour', 'day', 'month', 'weekday', 'temp', 'pcp01', 'pickups']].dropna()\n",
    "\n",
    "X = df_cleaned[['hour', 'day', 'month', 'weekday', 'temp', 'pcp01']]\n",
    "y = df_cleaned['pickups']\n"
   ]
  },
  {
   "cell_type": "code",
   "execution_count": null,
   "id": "99412415-6898-4e85-af07-3d40e4e7af66",
   "metadata": {},
   "outputs": [],
   "source": [
    "\n",
    "df.columns = df.columns.str.strip()\n",
    "\n",
    "selected_columns = ['hour', 'day', 'month', 'weekday', 'temp', 'pcp01', 'pickups']  # update if needed\n",
    "\n",
    "\n",
    "df_cleaned = df[selected_columns].dropna()\n",
    "\n",
    "# 4. Split into X and y\n",
    "X = df_cleaned[['hour', 'day', 'month', 'weekday', 'temp', 'pcp01']]\n",
    "y = df_cleaned['pickups']\n",
    "\n",
    "\n",
    "print(len(X), len(y))  # Should now match exactly\n",
    "\n"
   ]
  },
  {
   "cell_type": "code",
   "execution_count": null,
   "id": "cdef81c8-2717-484e-af75-7ac163bbb909",
   "metadata": {},
   "outputs": [],
   "source": [
    "print(len(X), len(y))  # Should both be 29099 (or whatever number after dropna)\n"
   ]
  },
  {
   "cell_type": "code",
   "execution_count": null,
   "id": "1d94f454-674c-4c76-a2bc-09136a5bcf62",
   "metadata": {},
   "outputs": [],
   "source": [
    "LR = LinearRegression()\n",
    "LR.fit(x_trainFinal,y_train)\n",
    "y_train_pred = LR.predict(x_trainFinal)\n",
    "y_val_pred = LR.predict(x_valFinal)\n",
    "rmse_train = np.sqrt(mean_squared_error(y_train, y_train_pred))\n",
    "r2_train = r2_score(y_train, y_train_pred)\n",
    "rmse_val = np.sqrt(mean_squared_error(y_val, y_val_pred))\n",
    "r2_val = r2_score(y_val, y_val_pred)\n",
    "print(\"Train RMSE\",rmse_train,\"| Train R2\",r2_train)\n",
    "print('Test RMSE',rmse_val,'| Test R2',r2_val)"
   ]
  },
  {
   "cell_type": "markdown",
   "id": "f7a2a37c-be5f-45b2-9fbd-5399f5e2ed50",
   "metadata": {},
   "source": [
    "#building a knn model"
   ]
  },
  {
   "cell_type": "code",
   "execution_count": null,
   "id": "2eae234d-9094-4d82-b221-72a1c25f059f",
   "metadata": {},
   "outputs": [],
   "source": [
    "# Building a knn model\n",
    "knn = KNeighborsRegressor()\n",
    "knn.fit(x_trainFinal,y_train)\n",
    "y_train_pred = knn.predict(x_trainFinal)\n",
    "y_val_pred = knn.predict(x_valFinal)\n",
    "rmse_train = np.sqrt(mean_squared_error(y_train, y_train_pred))\n",
    "r2_train = r2_score(y_train, y_train_pred)\n",
    "rmse_val = np.sqrt(mean_squared_error(y_val, y_val_pred))\n",
    "r2_val = r2_score(y_val, y_val_pred)\n",
    "print(\"Train RMSE\",rmse_train,\"| Train R2\",r2_train)\n",
    "print('Test RMSE',rmse_val,'| Test R2',r2_val)"
   ]
  },
  {
   "cell_type": "code",
   "execution_count": 260,
   "id": "3f1f2398-dde3-4e06-ac93-b4bb6ffe8a0f",
   "metadata": {},
   "outputs": [
    {
     "ename": "SyntaxError",
     "evalue": "invalid syntax. Perhaps you forgot a comma? (3698782575.py, line 23)",
     "output_type": "error",
     "traceback": [
      "\u001b[1;36m  Cell \u001b[1;32mIn[260], line 23\u001b[1;36m\u001b[0m\n\u001b[1;33m    model.fit(X_trdf[['pickups', 'hour', 'day', 'month', 'weekday', 'temp', 'pcp01']].corr()\u001b[0m\n\u001b[1;37m              ^\u001b[0m\n\u001b[1;31mSyntaxError\u001b[0m\u001b[1;31m:\u001b[0m invalid syntax. Perhaps you forgot a comma?\n"
     ]
    }
   ],
   "source": [
    "#Building Random Forest Model\n",
    "\n",
    "from sklearn.ensemble import RandomForestRegressor\n",
    "from sklearn.model_selection import train_test_split\n",
    "from sklearn.metrics import r2_score\n",
    "\n",
    "# Select relevant features\n",
    "features = ['hour', 'day', 'month', 'weekday', 'temp', 'pcp01']\n",
    "target = 'pickups'\n",
    "\n",
    "# Clean and prepare data\n",
    "df.columns = df.columns.str.strip()\n",
    "df_cleaned = df[features + [target]].dropna()\n",
    "\n",
    "X = df_cleaned[features]\n",
    "y = df_cleaned[target]\n",
    "\n",
    "# Train-test split\n",
    "X_train, X_test, y_train, y_test = train_test_split(X, y, test_size=0.2, random_state=42)\n",
    "\n",
    "# Train Random Forest\n",
    "model = RandomForestRegressor(n_estimators=100, random_state=42)\n",
    "model.fit(X_trdf[['pickups', 'hour', 'day', 'month', 'weekday', 'temp', 'pcp01']].corr()\n",
    "ain, y_train)\n",
    "\n",
    "# Evaluate\n",
    "y_pred = model.predict(X_test)\n",
    "r2 = r2_score(y_test, y_pred)\n",
    "print(\"R² score:\", r2)\n"
   ]
  },
  {
   "cell_type": "code",
   "execution_count": 248,
   "id": "34787bcd-7daf-4b6f-9afd-cea2679d54bd",
   "metadata": {},
   "outputs": [],
   "source": [
    "df['pickup_dt'] = pd.to_datetime(df['pickup_dt'])\n",
    "df['hour'] = df['pickup_dt'].dt.hour\n",
    "df['day'] = df['pickup_dt'].dt.day\n",
    "df['month'] = df['pickup_dt'].dt.month\n",
    "df['weekday'] = df['pickup_dt'].dt.weekday  # 0=Monday, 6=Sunday\n"
   ]
  },
  {
   "cell_type": "code",
   "execution_count": 264,
   "id": "ba0ef728-91ae-4726-b0b8-e6a49f2ecbb5",
   "metadata": {},
   "outputs": [],
   "source": [
    "# Strip leading/trailing spaces and convert to binary\n",
    "df['hday'] = df['hday'].astype(str).str.strip().apply(lambda x: 1 if x.upper() == 'Y' else 0)\n"
   ]
  },
  {
   "cell_type": "code",
   "execution_count": 232,
   "id": "40386da3-558b-4228-8575-79cf311f7f37",
   "metadata": {},
   "outputs": [
    {
     "data": {
      "image/png": "[encoded data removed]",
      "text/plain": [
       "<Figure size 640x480 with 1 Axes>"
      ]
     },
     "metadata": {},
     "output_type": "display_data"
    }
   ],
   "source": [
    "import matplotlib.pyplot as plt\n",
    "\n",
    "importances = model.feature_importances_\n",
    "feat_names = X.columns\n",
    "\n",
    "plt.barh(feat_names, importances)\n",
    "plt.xlabel(\"Feature Importance\")\n",
    "plt.title(\"Which Features Affect Pickup?\")\n",
    "plt.show()\n"
   ]
  },
  {
   "cell_type": "code",
   "execution_count": 242,
   "id": "e6ed7aaa-7997-4dbb-8727-06dca3909c88",
   "metadata": {},
   "outputs": [
    {
     "name": "stdout",
     "output_type": "stream",
     "text": [
      "Train RMSE: 968.287654683969\n",
      "Test RMSE: 1072.777264221973\n",
      "Train R²: 0.05603836897447223\n",
      "Test R²: -0.16985003738532867\n"
     ]
    }
   ],
   "source": [
    "# Building Model Using Decision Tree\n",
    "\n",
    "import pandas as pd\n",
    "import numpy as np\n",
    "from sklearn.tree import DecisionTreeRegressor\n",
    "from sklearn.model_selection import train_test_split\n",
    "from sklearn.metrics import mean_squared_error, r2_score\n",
    "\n",
    "\n",
    "df.columns = df.columns.str.strip()\n",
    "\n",
    "\n",
    "if 'price' not in df.columns:\n",
    "    df['price'] = (\n",
    "        10 +\n",
    "        0.3 * df['hour'] +\n",
    "        0.5 * df['temp'] +\n",
    "        2.0 * df['pcp01'] +\n",
    "        np.random.normal(0, 1, size=len(df))\n",
    "    )\n",
    "\n",
    "\n",
    "features = ['hour', 'day', 'month', 'weekday', 'temp', 'pcp01']\n",
    "target = 'pickups'\n",
    "\n",
    "\n",
    "df_cleaned = df[features + [target]].dropna()\n",
    "X = df_cleaned[features]\n",
    "y = df_cleaned[target]\n",
    "\n",
    "X_train, X_test, y_train, y_test = train_test_split(X, y, test_size=0.2, random_state=42)\n",
    "\n",
    "\n",
    "model = DecisionTreeRegressor(random_state=42)\n",
    "model.fit(X_train, y_train)\n",
    "\n",
    "\n",
    "y_train_pred = model.predict(X_train)\n",
    "y_test_pred = model.predict(X_test)\n",
    "\n",
    "\n",
    "rmse_train = np.sqrt(mean_squared_error(y_train, y_train_pred))\n",
    "rmse_test = np.sqrt(mean_squared_error(y_test, y_test_pred))\n",
    "\n",
    "print(\"Train RMSE:\", rmse_train)\n",
    "print(\"Test RMSE:\", rmse_test)\n",
    "\n",
    "# Optional: Also print R² scores\n",
    "print(\"Train R²:\", r2_score(y_train, y_train_pred))\n",
    "print(\"Test R²:\", r2_score(y_test, y_test_pred))\n"
   ]
  },
  {
   "cell_type": "code",
   "execution_count": null,
   "id": "bdc2595b-32ee-4648-af02-f91f47f27a35",
   "metadata": {},
   "outputs": [],
   "source": [
    "correlation = df['temp'].corr(df['pickups'])\n",
    "print(\"Correlation between temp and pickups:\", correlation)\n",
    "\n"
   ]
  },
  {
   "cell_type": "code",
   "execution_count": 167,
   "id": "ced53e46-3392-4cd8-8fb7-5c3861acf546",
   "metadata": {},
   "outputs": [
    {
     "data": {
      "image/png": "[encoded data removed]",
      "text/plain": [
       "<Figure size 640x480 with 1 Axes>"
      ]
     },
     "metadata": {},
     "output_type": "display_data"
    }
   ],
   "source": [
    "import matplotlib.pyplot as plt\n",
    "\n",
    "plt.scatter(df['temp'], df['pickups'], alpha=0.5)\n",
    "plt.xlabel(\"Temperature\")\n",
    "plt.ylabel(\"Number of Pickups\")\n",
    "plt.title(\"Temperature vs Pickups\")\n",
    "plt.show()\n"
   ]
  },
  {
   "cell_type": "code",
   "execution_count": null,
   "id": "a00aeb13-bb7b-4231-8778-972de9efb038",
   "metadata": {},
   "outputs": [],
   "source": [
    "\n"
   ]
  },
  {
   "cell_type": "code",
   "execution_count": 169,
   "id": "8c53f829-337b-457d-8471-7882a0994f22",
   "metadata": {},
   "outputs": [
    {
     "data": {
      "image/png": "[encoded data removed]",
      "text/plain": [
       "<Figure size 500x500 with 1 Axes>"
      ]
     },
     "metadata": {},
     "output_type": "display_data"
    }
   ],
   "source": [
    "import seaborn as sns\n",
    "\n",
    "\n",
    "sns.lmplot(x='temp', y='pickups', data=df)\n",
    "plt.title(\"Linear Fit: Temperature vs Pickups\")\n",
    "plt.show()\n"
   ]
  },
  {
   "cell_type": "code",
   "execution_count": 171,
   "id": "05466e33-2753-44ab-9c24-6125486b6f9f",
   "metadata": {},
   "outputs": [
    {
     "name": "stdout",
     "output_type": "stream",
     "text": [
      "Correlation between weekdays and pickups: 0.0012883541411290059\n"
     ]
    }
   ],
   "source": [
    "correlation = df['weekday'].corr(df['pickups'])\n",
    "print(\"Correlation between weekdays and pickups:\", correlation)"
   ]
  },
  {
   "cell_type": "code",
   "execution_count": 172,
   "id": "1c05fefa-d984-4ed2-b304-8dd0cae982ee",
   "metadata": {},
   "outputs": [
    {
     "name": "stdout",
     "output_type": "stream",
     "text": [
      "Correlation between pcp01 and pickups: 0.004402340209845593\n"
     ]
    }
   ],
   "source": [
    "correlation = df['pcp01'].corr(df['pickups'])\n",
    "print(\"Correlation between pcp01 and pickups:\", correlation)"
   ]
  },
  {
   "cell_type": "code",
   "execution_count": 173,
   "id": "b443510d-d616-45d2-970b-2b8b9bb1b456",
   "metadata": {},
   "outputs": [
    {
     "name": "stdout",
     "output_type": "stream",
     "text": [
      "Correlation between pcp06 and pickups: -0.002914789303806384\n"
     ]
    }
   ],
   "source": [
    "correlation = df['pcp06'].corr(df['pickups'])\n",
    "print(\"Correlation between pcp06 and pickups:\", correlation)"
   ]
  },
  {
   "cell_type": "code",
   "execution_count": 174,
   "id": "667b561c-3c30-439d-a09d-e126b2e6db79",
   "metadata": {},
   "outputs": [
    {
     "name": "stdout",
     "output_type": "stream",
     "text": [
      "Correlation between pcp24 and pickups: -0.02022757952314178\n"
     ]
    }
   ],
   "source": [
    "correlation = df['pcp24'].corr(df['pickups'])\n",
    "print(\"Correlation between pcp24 and pickups:\", correlation)"
   ]
  },
  {
   "cell_type": "code",
   "execution_count": 175,
   "id": "c24be701-01ff-4d1a-b6d1-724f20ac073e",
   "metadata": {},
   "outputs": [
    {
     "name": "stdout",
     "output_type": "stream",
     "text": [
      "Correlation between weekday and pickups: 0.0012883541411290059\n"
     ]
    }
   ],
   "source": [
    "correlation = df['weekday'].corr(df['pickups'])\n",
    "print(\"Correlation between weekday and pickups:\", correlation)"
   ]
  },
  {
   "cell_type": "code",
   "execution_count": 176,
   "id": "667cc67f-61c4-4a1c-b5f7-41332701c295",
   "metadata": {},
   "outputs": [],
   "source": [
    "#to check my values for increasing my r2"
   ]
  },
  {
   "cell_type": "code",
   "execution_count": 177,
   "id": "bf10be92-9c26-4ab8-94ff-ef0a81af1dbd",
   "metadata": {},
   "outputs": [
    {
     "name": "stdout",
     "output_type": "stream",
     "text": [
      "pickup_dt    17559\n",
      "borough          0\n",
      "pickups          2\n",
      "spd              0\n",
      "vsb              0\n",
      "temp             0\n",
      "dewp             0\n",
      "slp              0\n",
      "pcp01            0\n",
      "pcp06            0\n",
      "pcp24            0\n",
      "sd               0\n",
      "hday             0\n",
      "hour         17559\n",
      "day          17559\n",
      "month        17559\n",
      "weekday      17559\n",
      "dtype: int64\n",
      "                           pickup_dt       pickups           spd  \\\n",
      "count                          11542  29099.000000  29101.000000   \n",
      "mean   2015-06-19 21:03:22.114018304    490.236022      5.984924   \n",
      "min              2015-01-01 01:00:00      0.000000      0.000000   \n",
      "25%              2015-04-01 01:15:00      1.000000      3.000000   \n",
      "50%              2015-07-01 02:00:00     54.000000      6.000000   \n",
      "75%              2015-10-01 00:45:00    449.000000      8.000000   \n",
      "max              2015-12-06 23:00:00   7883.000000     21.000000   \n",
      "std                              NaN    995.680628      3.699007   \n",
      "\n",
      "                vsb          temp          dewp           slp         pcp01  \\\n",
      "count  29101.000000  29101.000000  29101.000000  2.910100e+04  29101.000000   \n",
      "mean       8.818125     47.765793     30.823065  1.052633e+03      0.003830   \n",
      "min        0.000000      0.000000    -16.000000  1.000000e+00      0.000000   \n",
      "25%        9.100000     32.000000     14.000000  1.012500e+03      0.000000   \n",
      "50%       10.000000     46.000000     30.000000  1.018200e+03      0.000000   \n",
      "75%       10.000000     64.500000     50.000000  1.022900e+03      0.000000   \n",
      "max       10.000000     89.000000     73.000000  1.015200e+06      0.280000   \n",
      "std        2.442897     19.714775     21.283444  5.945147e+03      0.018933   \n",
      "\n",
      "              pcp06         pcp24            sd          hour           day  \\\n",
      "count  29101.000000  29101.000000  29101.000000  11542.000000  11542.000000   \n",
      "mean       0.026129      0.090464      2.529169     11.599203      3.517761   \n",
      "min        0.000000      0.000000      0.000000      0.000000      1.000000   \n",
      "25%        0.000000      0.000000      0.000000      6.000000      2.000000   \n",
      "50%        0.000000      0.000000      0.000000     12.000000      4.000000   \n",
      "75%        0.000000      0.050000      2.958333     18.000000      5.000000   \n",
      "max        1.240000      2.100000     19.000000     23.000000      6.000000   \n",
      "std        0.093125      0.219402      4.520325      6.908025      1.709767   \n",
      "\n",
      "              month       weekday  \n",
      "count  11542.000000  11542.000000  \n",
      "mean       6.512390      3.024606  \n",
      "min        1.000000      0.000000  \n",
      "25%        4.000000      1.000000  \n",
      "50%        7.000000      3.000000  \n",
      "75%       10.000000      5.000000  \n",
      "max       12.000000      6.000000  \n",
      "std        3.448957      1.993817  \n"
     ]
    }
   ],
   "source": [
    "print(df.isnull().sum())\n",
    "print(df.describe())\n"
   ]
  },
  {
   "cell_type": "code",
   "execution_count": 201,
   "id": "75e7fa7e-b245-46ca-82b2-9a325dbaa24b",
   "metadata": {},
   "outputs": [],
   "source": [
    "df['hour'] = df['hour'].fillna(df['hour'].median())\n",
    "\n",
    "\n"
   ]
  },
  {
   "cell_type": "code",
   "execution_count": 203,
   "id": "196ec62e-4d0f-4b5a-b974-ab7f07eda4b6",
   "metadata": {},
   "outputs": [
    {
     "name": "stdout",
     "output_type": "stream",
     "text": [
      "pickup_dt    17559\n",
      "borough          0\n",
      "pickups          2\n",
      "spd              0\n",
      "vsb              0\n",
      "temp             0\n",
      "dewp             0\n",
      "slp              0\n",
      "pcp01            0\n",
      "pcp06            0\n",
      "pcp24            0\n",
      "sd               0\n",
      "hday             0\n",
      "hour             0\n",
      "day          17559\n",
      "month        17559\n",
      "weekday      17559\n",
      "dtype: int64\n"
     ]
    }
   ],
   "source": [
    "print(df.isnull().sum())\n"
   ]
  },
  {
   "cell_type": "code",
   "execution_count": 207,
   "id": "078d9777-56ec-49f9-9c7e-99417af00ba0",
   "metadata": {},
   "outputs": [],
   "source": [
    "df['day'] = df['day'].fillna(df['hour'].median())"
   ]
  },
  {
   "cell_type": "code",
   "execution_count": 211,
   "id": "4df1a689-9dcf-4924-8857-da0789d3761a",
   "metadata": {},
   "outputs": [],
   "source": [
    "df['month'] = df['month'].fillna(df['hour'].median())"
   ]
  },
  {
   "cell_type": "code",
   "execution_count": 213,
   "id": "4d483000-c205-4f11-a272-c851f6ed323a",
   "metadata": {},
   "outputs": [],
   "source": [
    "df['month'] = df['month'].fillna(df['hour'].median())"
   ]
  },
  {
   "cell_type": "code",
   "execution_count": 220,
   "id": "272c9e2a-1b3d-43f7-9eda-6a6dbbd1f546",
   "metadata": {},
   "outputs": [],
   "source": [
    "df['weekday'] = df['weekday'].fillna(df['hour'].median())"
   ]
  },
  {
   "cell_type": "code",
   "execution_count": 224,
   "id": "16e2ab17-1291-4a66-9335-cd17a9d45069",
   "metadata": {},
   "outputs": [],
   "source": [
    "df['pickup_dt'] = df['pickup_dt'].fillna(df['hour'].median())"
   ]
  },
  {
   "cell_type": "code",
   "execution_count": 226,
   "id": "ff6ee4f3-8168-4be8-88da-a51a3c3d04f8",
   "metadata": {},
   "outputs": [
    {
     "name": "stdout",
     "output_type": "stream",
     "text": [
      "pickup_dt    0\n",
      "borough      0\n",
      "pickups      2\n",
      "spd          0\n",
      "vsb          0\n",
      "temp         0\n",
      "dewp         0\n",
      "slp          0\n",
      "pcp01        0\n",
      "pcp06        0\n",
      "pcp24        0\n",
      "sd           0\n",
      "hday         0\n",
      "hour         0\n",
      "day          0\n",
      "month        0\n",
      "weekday      0\n",
      "dtype: int64\n"
     ]
    }
   ],
   "source": [
    "print(df.isnull().sum())"
   ]
  },
  {
   "cell_type": "code",
   "execution_count": 234,
   "id": "b7906b5e-6681-493a-b2a2-ab143d3824f9",
   "metadata": {},
   "outputs": [
    {
     "data": {
      "text/html": [
       "<div>\n",
       "<style scoped>\n",
       "    .dataframe tbody tr th:only-of-type {\n",
       "        vertical-align: middle;\n",
       "    }\n",
       "\n",
       "    .dataframe tbody tr th {\n",
       "        vertical-align: top;\n",
       "    }\n",
       "\n",
       "    .dataframe thead th {\n",
       "        text-align: right;\n",
       "    }\n",
       "</style>\n",
       "<table border=\"1\" class=\"dataframe\">\n",
       "  <thead>\n",
       "    <tr style=\"text-align: right;\">\n",
       "      <th></th>\n",
       "      <th>pickups</th>\n",
       "      <th>hour</th>\n",
       "      <th>day</th>\n",
       "      <th>month</th>\n",
       "      <th>weekday</th>\n",
       "      <th>temp</th>\n",
       "      <th>pcp01</th>\n",
       "    </tr>\n",
       "  </thead>\n",
       "  <tbody>\n",
       "    <tr>\n",
       "      <th>pickups</th>\n",
       "      <td>1.000000</td>\n",
       "      <td>0.102428</td>\n",
       "      <td>0.025653</td>\n",
       "      <td>0.014984</td>\n",
       "      <td>0.016828</td>\n",
       "      <td>0.054729</td>\n",
       "      <td>0.004402</td>\n",
       "    </tr>\n",
       "    <tr>\n",
       "      <th>hour</th>\n",
       "      <td>0.102428</td>\n",
       "      <td>1.000000</td>\n",
       "      <td>0.043182</td>\n",
       "      <td>0.032830</td>\n",
       "      <td>0.043803</td>\n",
       "      <td>0.068006</td>\n",
       "      <td>-0.021734</td>\n",
       "    </tr>\n",
       "    <tr>\n",
       "      <th>day</th>\n",
       "      <td>0.025653</td>\n",
       "      <td>0.043182</td>\n",
       "      <td>1.000000</td>\n",
       "      <td>0.752529</td>\n",
       "      <td>0.932636</td>\n",
       "      <td>0.177856</td>\n",
       "      <td>0.002932</td>\n",
       "    </tr>\n",
       "    <tr>\n",
       "      <th>month</th>\n",
       "      <td>0.014984</td>\n",
       "      <td>0.032830</td>\n",
       "      <td>0.752529</td>\n",
       "      <td>1.000000</td>\n",
       "      <td>0.756722</td>\n",
       "      <td>0.107417</td>\n",
       "      <td>-0.040260</td>\n",
       "    </tr>\n",
       "    <tr>\n",
       "      <th>weekday</th>\n",
       "      <td>0.016828</td>\n",
       "      <td>0.043803</td>\n",
       "      <td>0.932636</td>\n",
       "      <td>0.756722</td>\n",
       "      <td>1.000000</td>\n",
       "      <td>0.075749</td>\n",
       "      <td>0.005109</td>\n",
       "    </tr>\n",
       "    <tr>\n",
       "      <th>temp</th>\n",
       "      <td>0.054729</td>\n",
       "      <td>0.068006</td>\n",
       "      <td>0.177856</td>\n",
       "      <td>0.107417</td>\n",
       "      <td>0.075749</td>\n",
       "      <td>1.000000</td>\n",
       "      <td>-0.013938</td>\n",
       "    </tr>\n",
       "    <tr>\n",
       "      <th>pcp01</th>\n",
       "      <td>0.004402</td>\n",
       "      <td>-0.021734</td>\n",
       "      <td>0.002932</td>\n",
       "      <td>-0.040260</td>\n",
       "      <td>0.005109</td>\n",
       "      <td>-0.013938</td>\n",
       "      <td>1.000000</td>\n",
       "    </tr>\n",
       "  </tbody>\n",
       "</table>\n",
       "</div>"
      ],
      "text/plain": [
       "          pickups      hour       day     month   weekday      temp     pcp01\n",
       "pickups  1.000000  0.102428  0.025653  0.014984  0.016828  0.054729  0.004402\n",
       "hour     0.102428  1.000000  0.043182  0.032830  0.043803  0.068006 -0.021734\n",
       "day      0.025653  0.043182  1.000000  0.752529  0.932636  0.177856  0.002932\n",
       "month    0.014984  0.032830  0.752529  1.000000  0.756722  0.107417 -0.040260\n",
       "weekday  0.016828  0.043803  0.932636  0.756722  1.000000  0.075749  0.005109\n",
       "temp     0.054729  0.068006  0.177856  0.107417  0.075749  1.000000 -0.013938\n",
       "pcp01    0.004402 -0.021734  0.002932 -0.040260  0.005109 -0.013938  1.000000"
      ]
     },
     "execution_count": 234,
     "metadata": {},
     "output_type": "execute_result"
    }
   ],
   "source": [
    "df[['pickups', 'hour', 'day', 'month', 'weekday', 'temp', 'pcp01']].corr()\n"
   ]
  },
  {
   "cell_type": "code",
   "execution_count": 236,
   "id": "f9183f11-0056-4945-8e3c-99c8e7e977d8",
   "metadata": {},
   "outputs": [],
   "source": [
    "#feature  nearly zero doest affect me more\n",
    "\n"
   ]
  },
  {
   "cell_type": "code",
   "execution_count": 238,
   "id": "23c10760-cbd6-4310-8689-6314d403b922",
   "metadata": {},
   "outputs": [],
   "source": [
    "df['is_weekend'] = df['weekday'].apply(lambda x: 1 if x in [5, 6] else 0)\n",
    "df['is_rainy'] = df['pcp01'].apply(lambda x: 1 if x > 0 else 0)\n"
   ]
  },
  {
   "cell_type": "code",
   "execution_count": null,
   "id": "fda3ef85-24a1-4625-818e-fb01d8fddde4",
   "metadata": {},
   "outputs": [],
   "source": [
    "import pandas as pd\n",
    "import numpy as np\n",
    "from sklearn.tree import DecisionTreeRegressor\n",
    "from sklearn.model_selection import train_test_split\n",
    "from sklearn.metrics import mean_squared_error, r2_score\n",
    "\n",
    "\n",
    "df.columns = df.columns.str.strip()\n",
    "\n",
    "\n",
    "if 'price' not in df.columns:\n",
    "    df['price'] = (\n",
    "        10 +\n",
    "        0.3 * df['hour'] +\n",
    "        0.5 * df['temp'] +\n",
    "        2.0 * df['pcp01'] +\n",
    "        np.random.normal(0, 1, size=len(df))\n",
    "    )\n",
    "\n",
    "\n",
    "features = ['hour', 'day', 'month', 'weekday', 'temp', 'pcp01']\n",
    "target = 'pickups'\n",
    "\n",
    "\n",
    "df_cleaned = df[features + [target]].dropna()\n",
    "X = df_cleaned[features]\n",
    "y = df_cleaned[target]\n",
    "\n",
    "X_train, X_test, y_train, y_test = train_test_split(X, y, test_size=0.2, random_state=42)\n",
    "\n",
    "\n",
    "model = DecisionTreeRegressor(random_state=42)\n",
    "model.fit(X_train, y_train)\n",
    "\n",
    "\n",
    "y_train_pred = model.predict(X_train)\n",
    "y_test_pred = model.predict(X_test)\n",
    "\n",
    "\n",
    "rmse_train = np.sqrt(mean_squared_error(y_train, y_train_pred))\n",
    "rmse_test = np.sqrt(mean_squared_error(y_test, y_test_pred))\n",
    "\n",
    "print(\"Train RMSE:\", rmse_train)\n",
    "print(\"Test RMSE:\", rmse_test)\n",
    "\n",
    "# Optional: Also print R² scores\n",
    "print(\"Train R²:\", r2_score(y_train, y_train_pred))\n",
    "print(\"Test R²:\", r2_score(y_test, y_test_pred))"
   ]
  },
  {
   "cell_type": "code",
   "execution_count": 15,
   "id": "59062b6e-f483-4ae0-9bc5-3ba39c3c5b4b",
   "metadata": {},
   "outputs": [
    {
     "name": "stderr",
     "output_type": "stream",
     "text": [
      "C:\\Users\\admin\\AppData\\Local\\Temp\\ipykernel_1596\\493390264.py:1: FutureWarning: Downcasting behavior in `replace` is deprecated and will be removed in a future version. To retain the old behavior, explicitly call `result.infer_objects(copy=False)`. To opt-in to the future behavior, set `pd.set_option('future.no_silent_downcasting', True)`\n",
      "  df['hday'] = df['hday'].replace({'Y': 1, 'N': 0, '?': 0})\n"
     ]
    }
   ],
   "source": [
    "df['hday'] = df['hday'].replace({'Y': 1, 'N': 0, '?': 0})\n"
   ]
  },
  {
   "cell_type": "code",
   "execution_count": 17,
   "id": "2e00e1f6-76ec-40bf-aabe-e5d65a220bd0",
   "metadata": {},
   "outputs": [
    {
     "name": "stdout",
     "output_type": "stream",
     "text": [
      "[1 0]\n"
     ]
    }
   ],
   "source": [
    "print(df['hday'].unique())"
   ]
  },
  {
   "cell_type": "code",
   "execution_count": 33,
   "id": "8fe1f59d-0627-4093-a61b-70ed644384c0",
   "metadata": {},
   "outputs": [
    {
     "name": "stdout",
     "output_type": "stream",
     "text": [
      "Train RMSE: 988.2539794317557\n",
      "Test RMSE: 1028.88559106659\n",
      "Train R²: 0.023440905145611368\n",
      "Test R²: -0.043693359639099594\n"
     ]
    }
   ],
   "source": [
    "import pandas as pd\n",
    "import numpy as np\n",
    "from sklearn.tree import DecisionTreeRegressor\n",
    "from sklearn.model_selection import train_test_split\n",
    "from sklearn.metrics import mean_squared_error, r2_score\n",
    "\n",
    "# Clean column names\n",
    "df.columns = df.columns.str.strip()\n",
    "\n",
    "# Ensure 'hday' is binary\n",
    "df['hday'] = df['hday'].replace({'Y': 1, 'N': 0, '?': 0})\n",
    "df['hday'] = df['hday'].astype(int)\n",
    "\n",
    "# ✅ Updated features (without weekday)\n",
    "features = ['temp', 'hday', 'pcp01']\n",
    "target = 'pickups'\n",
    "\n",
    "# Drop rows with missing values\n",
    "df_cleaned = df[features + [target]].dropna()\n",
    "\n",
    "# Define X and y\n",
    "X = df_cleaned[features]\n",
    "y = df_cleaned[target]\n",
    "\n",
    "# Train-test split\n",
    "X_train, X_test, y_train, y_test = train_test_split(\n",
    "    X, y, test_size=0.2, random_state=42\n",
    ")\n",
    "\n",
    "# Initialize and train model\n",
    "model = DecisionTreeRegressor(random_state=42)\n",
    "model.fit(X_train, y_train)\n",
    "\n",
    "# Predictions\n",
    "y_train_pred = model.predict(X_train)\n",
    "y_test_pred = model.predict(X_test)\n",
    "\n",
    "# Evaluation metrics\n",
    "rmse_train = np.sqrt(mean_squared_error(y_train, y_train_pred))\n",
    "rmse_test = np.sqrt(mean_squared_error(y_test, y_test_pred))\n",
    "\n",
    "print(\"Train RMSE:\", rmse_train)\n",
    "print(\"Test RMSE:\", rmse_test)\n",
    "print(\"Train R²:\", r2_score(y_train, y_train_pred))\n",
    "print(\"Test R²:\", r2_score(y_test, y_test_pred))\n",
    "\n"
   ]
  },
  {
   "cell_type": "markdown",
   "id": "a55692e6-0a72-4b0a-ab46-b13179f9cda5",
   "metadata": {},
   "source": []
  },
  {
   "cell_type": "code",
   "execution_count": null,
   "id": "f950d93e-4ce7-4af7-84cd-916507046031",
   "metadata": {},
   "outputs": [],
   "source": []
  }
 ],
 "metadata": {
  "kernelspec": {
   "display_name": "Python [conda env:base] *",
   "language": "python",
   "name": "conda-base-py"
  },
  "language_info": {
   "codemirror_mode": {
    "name": "ipython",
    "version": 3
   },
   "file_extension": ".py",
   "mimetype": "text/x-python",
   "name": "python",
   "nbconvert_exporter": "python",
   "pygments_lexer": "ipython3",
   "version": "3.12.7"
  }
 },
 "nbformat": 4,
 "nbformat_minor": 5
}
